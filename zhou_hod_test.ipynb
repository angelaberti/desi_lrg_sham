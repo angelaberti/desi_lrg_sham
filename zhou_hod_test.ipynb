{
 "cells": [
  {
   "cell_type": "code",
   "execution_count": null,
   "metadata": {},
   "outputs": [],
   "source": [
    "import os, sys\n",
    "import numpy as np\n",
    "\n",
    "from pathlib import Path\n",
    "\n",
    "from astropy.io import fits, ascii\n",
    "from astropy.table import Table, Column, vstack, hstack, join\n",
    "from astropy.cosmology import FlatLambdaCDM\n",
    "\n",
    "from scipy import interpolate\n",
    "import scipy.stats as stats\n",
    "\n",
    "import matplotlib.pyplot as plt\n",
    "import matplotlib as mpl\n",
    "from matplotlib.lines import Line2D\n",
    "\n",
    "%matplotlib inline\n",
    "\n",
    "sys.path.append(\"./py\")\n",
    "#from utils import *\n",
    "\n",
    "sys.path.append(\"/Users/aberti/Desktop/research\")\n",
    "from plotutils import get_corners, fig_labels, get_colors, plot_settings\n",
    "plt.rcParams.update(**plot_settings)\n",
    "\n",
    "plt.rcParams[\"mathtext.fontset\"] = \"stix\"\n",
    "plt.rcParams[\"font.family\"] = \"STIXGeneral\"\n",
    "\n",
    "from params import BASEDIR, DATADIR, SIMDIR, H0, Om0\n",
    "h = H0/100\n",
    "\n",
    "cosmo = FlatLambdaCDM(H0=H0, Om0=Om0)\n",
    "\n",
    "import Corrfunc\n",
    "from Corrfunc.theory.wp import wp as wp_corrfunc\n",
    "\n",
    "#-- bins for clustering (data and mocks)\n",
    "from params import nbins, rp_min, rp_max, rp_bins, rp_mids, bin_file_comoving, bin_file\n",
    "from params import bin_file_test as bin_file_zhou\n"
   ]
  },
  {
   "cell_type": "code",
   "execution_count": null,
   "metadata": {},
   "outputs": [],
   "source": [
    "b = ascii.read(bin_file)\n",
    "rp_bins = np.concatenate([b[\"col1\"],[b[\"col2\"][-1]]])\n",
    "rp_mids = 0.5*(rp_bins[1:] + rp_bins[:-1])\n",
    "\n",
    "b = ascii.read(bin_file_comoving)\n",
    "rp_bins_com = np.concatenate([b[\"col1\"],[b[\"col2\"][-1]]])\n",
    "rp_mids_com = 0.5*(rp_bins_com[1:] + rp_bins_com[:-1])\n",
    "\n",
    "b = ascii.read(bin_file_zhou)\n",
    "rp_bins_zhou = np.concatenate([b[\"col1\"],[b[\"col2\"][-1]]])\n",
    "rp_mids_zhou = 0.5*(rp_bins_zhou[1:] + rp_bins_zhou[:-1])\n"
   ]
  },
  {
   "cell_type": "code",
   "execution_count": null,
   "metadata": {},
   "outputs": [],
   "source": [
    "# print(\"default\\tcom\\tzhou\")\n",
    "\n",
    "# for i in range(np.min([len(rp_bins),len(rp_bins_com),len(rp_bins_zhou)])):\n",
    "#     print(f\"{rp_bins[i]:.4f}\\t{rp_bins_com[i]:.4f}\\t{rp_bins_zhou[i]:.4f}\")\n",
    "\n",
    "# print(\"\\ndefault\\tcom\\tzhou\")\n",
    "\n",
    "# for i in range(np.min([len(rp_mids),len(rp_mids_com),len(rp_mids_zhou)])):\n",
    "#     print(f\"{rp_mids[i]:.4f}\\t{rp_mids_com[i]:.4f}\\t{rp_mids_zhou[i]:.4f}\")  \n",
    "    "
   ]
  },
  {
   "cell_type": "markdown",
   "metadata": {},
   "source": [
    "# Rockstar ascii file parser stuff"
   ]
  },
  {
   "cell_type": "code",
   "execution_count": null,
   "metadata": {},
   "outputs": [],
   "source": [
    "# header = \"scale(0) id(1) desc_scale(2) desc_id(3) num_prog(4) pid(5) upid(6) desc_pid(7) phantom(8) sam_mvir(9) mvir(10) rvir(11) rs(12) vrms(13) mmp?(14) scale_of_last_MM(15) vmax(16) x(17) y(18) z(19) vx(20) vy(21) vz(22) Jx(23) Jy(24) Jz(25) Spin(26) Breadth_first_ID(27) Depth_first_ID(28) Tree_root_ID(29) Orig_halo_ID(30) Snap_num(31) Next_coprogenitor_depthfirst_ID(32) Last_progenitor_depthfirst_ID(33) Last_mainleaf_depthfirst_ID(34) Tidal_Force(35) Tidal_ID(36) Rs_Klypin(37) Mmvir_all(38) M200b(39) M200c(40) M500c(41) M2500c(42) Xoff(43) Voff(44) Spin_Bullock(45) b_to_a(46) c_to_a(47) A[x](48) A[y](49) A[z](50) b_to_a(500c)(51) c_to_a(500c)(52) A[x](500c)(53) A[y](500c)(54) A[z](500c)(55) T/|U|(56) M_pe_Behroozi(57) M_pe_Diemer(58) Macc(59) Mpeak(60) Vacc(61) Vpeak(62) Halfmass_Scale(63) Acc_Rate_Inst(64) Acc_Rate_100Myr(65) Acc_Rate_1*Tdyn(66) Acc_Rate_2*Tdyn(67) Acc_Rate_Mpeak(68) Mpeak_Scale(69) Acc_Scale(70) First_Acc_Scale(71) First_Acc_Mvir(72) First_Acc_Vmax(73) Vmax\\@Mpeak(74) Tidal_Force_Tdyn(75) Log_(Vmax/Vmax_max(Tdyn;Tmpeak))(76) Time_to_future_merger(77) Future_merger_MMP_ID(78)\"\n",
    "\n",
    "# for i in range(len(header.split(\" \"))):\n",
    "#     print(f\"{i}\\t{header.split(' ')[i].split('(')[0]}\")\n",
    "          "
   ]
  },
  {
   "cell_type": "code",
   "execution_count": null,
   "metadata": {},
   "outputs": [],
   "source": [
    "# def parse_rockstar_ascii(halocat_filepath, quiet=True, N_chunks=\"all\", chunk_length=50000, save=False,\n",
    "#                          cols=[1,5,6,10,11,12,15,16,17,18,19,20,21,22,59,60,61,62,63,69,70,71,72,73,74]):\n",
    "#     \"\"\"\n",
    "#     Parses raw ascii Rockstar halo files and saves selected columns in npy/table format\n",
    "#     \"\"\"\n",
    "#     if N_chunks != \"all\":\n",
    "#         assert( (type(N_chunks)==int) & (N_chunks > 0) )\n",
    "#         if not quiet:\n",
    "#             print(f\"Processing {N_chunks} X {chunk_length} lines of {halocat_filepath}...\")\n",
    "#     else:\n",
    "#         assert(os.path.exists(halocat_filepath))\n",
    "#         if not quiet:\n",
    "#             print(f\"Reading all of {halocat_filepath}...\")\n",
    "#     with open(halocat_filepath, \"r\") as f:\n",
    "#         #-- parse header\n",
    "#         line0 = f.readline()\n",
    "#         line0 = line0.strip()\n",
    "#         colnames = line0.split()\n",
    "\n",
    "#         #-- metadata for table\n",
    "#         names = [colnames[i][:-4].lower() if (colnames[i][-4]==\"(\") else colnames[i][:-3].lower() for i in cols]\n",
    "#         dtype = [int if ((\"id\" in colnames[i].lower()) or (\"?\" in colnames[i])) else float for i in cols]\n",
    "\n",
    "#         if not quiet:\n",
    "#             for i in range(len(names)):\n",
    "#                 print(f\"{cols[i]}\\t{names[i]}\")\n",
    "\n",
    "#         #-- skip over column definitions\n",
    "#         for i in range(63):\n",
    "#             line = f.readline()\n",
    "\n",
    "#         chunks = []\n",
    "#         chunk_num = 0\n",
    "#         while line != \"\":\n",
    "#             this_chunk = []\n",
    "#             for n in range(chunk_length):\n",
    "#                 line = f.readline().strip()\n",
    "#                 if line==\"\":\n",
    "#                     break\n",
    "#                 row = np.asarray(line.split())\n",
    "#                 this_chunk.append([float(i) if ((\"e\" in i) or (\".\" in i)) else int(i) for i in [row[j] for j in cols]])     \n",
    "#             this_chunk = Table( np.asarray(this_chunk), names=names, dtype=dtype )\n",
    "#             mask = this_chunk[\"mvir\"] >= 1e11\n",
    "#             # print(len(this_chunk), len(this_chunk[mask]))\n",
    "#             chunks.append( this_chunk[mask] )\n",
    "#             if not quiet and chunk_num%100==0:\n",
    "#                 print(chunk_num)\n",
    "#             chunk_num += 1\n",
    "#             if (N_chunks != \"all\") & (chunk_num==N_chunks):\n",
    "#                 break\n",
    "#         f.close()\n",
    "#         halocat = vstack(chunks)\n",
    "#         if not quiet:\n",
    "#             print(\"Your simulation snapshot is ready!\")\n",
    "\n",
    "#         save_dir_npy = \"/\" + os.path.join(*halocat_filepath.split(\"/\")[1:-1])\n",
    "#         fname_npy    = \"{}p{}_mvir1e11.npy\".format(*halocat_filepath.split(\"/\")[-1].split(\".\")[:-1])\n",
    "#         if not quiet:\n",
    "#             print(f\"Saving {save_dir_npy}/{fname_npy}...\")\n",
    "#         np.save(f\"{save_dir_npy}/{fname_npy}\", halocat)\n",
    "\n",
    "#         return halocat\n",
    "\n",
    "    "
   ]
  },
  {
   "cell_type": "code",
   "execution_count": null,
   "metadata": {},
   "outputs": [],
   "source": [
    "# %%time\n",
    "\n",
    "# input_fname = \"/Users/aberti/Desktop/research/sims/mdpl2/CATALOGS/hlist_0.61420.list\"\n",
    "\n",
    "# cols = [1,5,6,10,11,12,17,18,19,62,70]\n",
    "\n",
    "# halocat = parse_rockstar_ascii(input_fname, quiet=False, N_chunks=\"all\", cols=cols, save=True)\n"
   ]
  },
  {
   "cell_type": "markdown",
   "metadata": {},
   "source": [
    "# Load halo catalog"
   ]
  },
  {
   "cell_type": "code",
   "execution_count": null,
   "metadata": {},
   "outputs": [],
   "source": [
    "%%time\n",
    "\n",
    "# from numpy.lib import recfunctions as rf\n",
    "\n",
    "# redshift = 0.42531\n",
    "# halocat_fname = \"/Users/aberti/Desktop/research/sims/mdpl2/CATALOGS/hlist_0p70160_mvir1e11.npy\"\n",
    "\n",
    "redshift = 0.52323\n",
    "halocat_fname = \"/Users/aberti/Desktop/research/sims/mdpl2/CATALOGS/hlist_0p65650_mvir1e11.npy\"\n",
    "\n",
    "# redshift = 0.62813\n",
    "# halocat_fname = \"/Users/aberti/Desktop/research/sims/mdpl2/CATALOGS/hlist_0p61420_mvir1e11.npy\"\n",
    "\n",
    "halocat = Table(np.load(halocat_fname))\n"
   ]
  },
  {
   "cell_type": "markdown",
   "metadata": {},
   "source": [
    "# Halo catalog processing\n",
    "## Trim columns and Mvir limit (if needed)"
   ]
  },
  {
   "cell_type": "code",
   "execution_count": null,
   "metadata": {},
   "outputs": [],
   "source": [
    "%%time\n",
    "\n",
    "# halocat = halocat[halocat[\"mvir\"] >= 1e11]\n",
    "# halocat = Table(halocat)\n",
    "\n",
    "for i,c in enumerate(halocat.colnames):\n",
    "    print(f\"{i}\\t{c}\")\n"
   ]
  },
  {
   "cell_type": "code",
   "execution_count": null,
   "metadata": {},
   "outputs": [],
   "source": [
    "# for col in np.array(halocat.colnames)[[6,7,11,12,13,15,16,18,19,20,21]]:\n",
    "#     print(col)\n",
    "#     halocat.remove_column(col) \n",
    "    "
   ]
  },
  {
   "cell_type": "markdown",
   "metadata": {},
   "source": [
    "## Add parent Mvir to halo catalog (if needed)"
   ]
  },
  {
   "cell_type": "code",
   "execution_count": null,
   "metadata": {},
   "outputs": [],
   "source": [
    "%%time\n",
    "\n",
    "from utils import crossmatch\n",
    "\n",
    "# halocat.remove_column(\"parent_mvir\")\n",
    "if \"parent_mvir\" not in halocat.colnames:\n",
    "    print(\"Adding parent_mvir column...\")\n",
    "    \n",
    "    #-- add parent_mvir to halocat\n",
    "    #-- default value is mvir but will overwrite that below for subhalos\n",
    "    halocat.add_column(Column(data=halocat[\"mvir\"].data, name=\"parent_mvir\"))\n",
    "    halo_id   = halocat[\"id\"]   # unique\n",
    "    halo_upid = halocat[\"upid\"] # not unique\n",
    "\n",
    "    upid_idx, id_idx = crossmatch(halo_upid, halo_id, skip_bounds_checking=True)\n",
    "\n",
    "    halocat[\"parent_mvir\"][upid_idx] = halocat[\"mvir\"][id_idx]\n",
    "\n",
    "    parent_halo_mask = (halocat[\"upid\"] == -1)\n",
    "    halocat[\"parent_mvir\"][parent_halo_mask] = halocat[\"mvir\"][parent_halo_mask]\n",
    "\n",
    "    np.save(halocat_fname, halocat)\n"
   ]
  },
  {
   "cell_type": "code",
   "execution_count": null,
   "metadata": {},
   "outputs": [],
   "source": [
    "# len(halocat[halocat[\"mvir\"] == halocat[\"parent_mvir\"]])/len(halocat)\n",
    "\n",
    "# halocat\n"
   ]
  },
  {
   "cell_type": "code",
   "execution_count": null,
   "metadata": {},
   "outputs": [],
   "source": [
    "# bins = np.arange(11,16,0.05)\n",
    "\n",
    "# plt.hist(np.log10(halocat[\"mvir\"]), bins=bins, alpha=0.5)\n",
    "# plt.hist(np.log10(halocat[\"parent_mvir\"])[halocat[\"upid\"]==-1], bins=bins, alpha=0.5)\n",
    "# plt.hist(np.log10(halocat[\"parent_mvir\"])[halocat[\"upid\"]!=-1], bins=bins, alpha=0.5)\n",
    "\n",
    "# plt.semilogy()\n",
    "# plt.ylim(10,1e7)\n",
    "# plt.show()\n"
   ]
  },
  {
   "cell_type": "code",
   "execution_count": null,
   "metadata": {},
   "outputs": [],
   "source": [
    "# rf.get_names(halocat.dtype)\n"
   ]
  },
  {
   "cell_type": "code",
   "execution_count": null,
   "metadata": {},
   "outputs": [],
   "source": [
    "# %%time\n",
    "\n",
    "# halocat = rf.rename_fields(halocat, {\"vmax\":\"parent_mvir\"})\n",
    "\n",
    "# rf.get_names(halocat.dtype)\n"
   ]
  },
  {
   "cell_type": "code",
   "execution_count": null,
   "metadata": {},
   "outputs": [],
   "source": [
    "# %%time\n",
    "\n",
    "# fields = (\"rs\",\"rvir\",\"scale_of_last_mm\",\"macc\",\"mpeak\",\"vacc\",\"vpeak\",\"halfmass_scale\",\n",
    "#           \"mpeak_scale\",\"acc_scale\",\"first_acc_scale\",\"first_acc_mvir\",\"first_acc_vmax\",\n",
    "#           \"vmax\\\\@mpeak\")#,\"vmax\")\n",
    "\n",
    "# rf.drop_fields(halocat, fields[0])\n"
   ]
  },
  {
   "cell_type": "code",
   "execution_count": null,
   "metadata": {},
   "outputs": [],
   "source": []
  },
  {
   "cell_type": "markdown",
   "metadata": {},
   "source": [
    "# Populate halo catalog with mock LRGs according to Zhou et al. 2021 HOD"
   ]
  },
  {
   "cell_type": "code",
   "execution_count": null,
   "metadata": {},
   "outputs": [],
   "source": [
    "from scipy import special as sp\n",
    "\n",
    "def ncen_mvir(log_mvir, log_mmin, sigma_logm):\n",
    "    pcen = (0.5*( 1. + sp.erf( (log_mvir - log_mmin) / sigma_logm ) ))\n",
    "    idx = np.where(np.array([str(i) for i in pcen])==\"nan\")[0]\n",
    "    pcen[idx] = 0\n",
    "    return pcen\n",
    "\n",
    "def nsat_mvir(log_mvir, log_m0, log_m1, alpha):\n",
    "    mean_nsat = (( (10**log_mvir - 10**log_m0) / 10**log_m1 )**alpha)\n",
    "    idx = np.where(np.array([str(i) for i in mean_nsat])==\"nan\")[0]\n",
    "    mean_nsat[idx] = 0\n",
    "    return mean_nsat\n",
    "\n",
    "\n",
    "zhou_data = ascii.read(\"zhou_lrg_hod.csv\")\n",
    "\n",
    "these_zhou_params = zhou_data[np.round(zhou_data[\"zsim\"],1)==np.round(redshift,1)]\n",
    "\n",
    "log_mmin   = these_zhou_params[\"log_Mmin_6d\"]\n",
    "sigma_logm = these_zhou_params[\"sigma_logM_6d\"]\n",
    "\n",
    "log_m0     = these_zhou_params[\"logM0_6d\"]\n",
    "log_m1     = these_zhou_params[\"logM1_6d\"]\n",
    "alpha      = these_zhou_params[\"alpha_6d\"]\n"
   ]
  },
  {
   "cell_type": "code",
   "execution_count": null,
   "metadata": {},
   "outputs": [],
   "source": [
    "halocat = halocat[halocat[\"mvir\"] >= 10**(12)]\n",
    "\n",
    "# log_mvir_bins = np.arange(12,np.round(np.log10(np.max(halocat[\"mvir\"])),2)+0.1,0.1)\n",
    "\n",
    "log_mvir_bins = np.arange(12,15.01,0.1)\n",
    "log_mvir_bins = np.concatenate( [log_mvir_bins,[np.log10(np.max(halocat[\"mvir\"]))]] )\n",
    "\n",
    "log_mvir_cens = np.round(0.5*(log_mvir_bins[1:] + log_mvir_bins[:-1]),3)\n",
    "\n",
    "# log_mvir_bins\n",
    "\n",
    "# quantiles = np.arange(0,1.01,0.01)\n",
    "# log_mvir_bins = np.quantile(np.log10(halocat[\"mvir\"]), quantiles)\n",
    "\n",
    "fig, ax = plt.subplots(1, 1, figsize=(8,6))\n",
    "\n",
    "ax.hist(np.log10(halocat[\"mvir\"]), bins=log_mvir_bins, alpha=0.3, color=\"orangered\", label=\"Mvir (all halos)\")\n",
    "# ax.hist(np.log10(halocat[\"parent_mvir\"])[halocat[\"upid\"]==-1], bins=log_mvir_bins, alpha=0.3, color=\"blue\", label=\"parent Mvir (host halos)\")\n",
    "ax.hist(np.log10(halocat[\"parent_mvir\"])[halocat[\"upid\"]!=-1], bins=log_mvir_bins, alpha=0.5, color=\"gray\", label=\"parent Mvir (subhalos)\")\n",
    "\n",
    "ax.legend()\n",
    "ax.set_ylim(1,1e6)\n",
    "ax.set_xlabel(\"log ( parent halo Mvir )\")\n",
    "\n",
    "ax.semilogy()\n",
    "plt.show()\n",
    "\n"
   ]
  },
  {
   "cell_type": "code",
   "execution_count": null,
   "metadata": {},
   "outputs": [],
   "source": [
    "%%time\n",
    "\n",
    "is_host_halo = halocat[\"upid\"] == -1\n",
    "is_subhalo   = ~is_host_halo\n",
    "\n",
    "total_host_halos_by_parent_mvir,_ = np.histogram(np.log10(halocat[\"parent_mvir\"][is_host_halo]), bins=log_mvir_bins)\n",
    "total_subhalos_by_parent_mvir,_   = np.histogram(np.log10(halocat[\"parent_mvir\"][is_subhalo]), bins=log_mvir_bins)\n",
    "\n",
    "prob_has_cen_by_parent_mvir = ncen_mvir(log_mvir_cens, log_mmin, sigma_logm)\n",
    "mean_num_sat_by_parent_mvir = nsat_mvir(log_mvir_cens, log_m0, log_m1, alpha)\n"
   ]
  },
  {
   "cell_type": "code",
   "execution_count": null,
   "metadata": {},
   "outputs": [],
   "source": [
    "%%time\n",
    "\n",
    "total_occ_host_halos_by_parent_mvir = np.round(prob_has_cen_by_parent_mvir*total_host_halos_by_parent_mvir,0)\n",
    "total_occ_subhalos_by_parent_mvir   = np.round(mean_num_sat_by_parent_mvir*total_host_halos_by_parent_mvir,0)\n"
   ]
  },
  {
   "cell_type": "code",
   "execution_count": null,
   "metadata": {},
   "outputs": [],
   "source": [
    "# total_host_halos_by_parent_mvir\n",
    "# total_subhalos_by_parent_mvir\n",
    "\n",
    "# prob_has_cen_by_parent_mvir\n",
    "# mean_num_sat_by_parent_mvir\n",
    "\n",
    "# print(np.sum(total_occ_host_halos_by_parent_mvir) / np.sum(total_host_halos_by_parent_mvir))\n",
    "# print(np.sum(total_occ_subhalos_by_parent_mvir) / np.sum(total_subhalos_by_parent_mvir))\n"
   ]
  },
  {
   "cell_type": "code",
   "execution_count": null,
   "metadata": {
    "scrolled": true
   },
   "outputs": [],
   "source": [
    "%%time\n",
    "\n",
    "col = \"galaxy\"\n",
    "if col in halocat.colnames:\n",
    "    halocat.remove_column(col)\n",
    "halocat.add_column(Column( np.zeros(len(halocat),dtype=bool), name=\"galaxy\"))\n",
    "\n",
    "log_parent_mvir = np.log10(halocat[\"parent_mvir\"])\n",
    "         \n",
    "for i in range(len(log_mvir_bins)-1):\n",
    "    \n",
    "    log_parent_mvir_mask = (log_parent_mvir >= log_mvir_bins[i]) & (log_parent_mvir < log_mvir_bins[i+1])\n",
    "\n",
    "    host_halos_this_parent_mvir_bin = halocat[log_parent_mvir_mask & is_host_halo]\n",
    "    subhalos_this_parent_mvir_bin   = halocat[log_parent_mvir_mask & is_subhalo]\n",
    "\n",
    "    n_host_halos_this_parent_mvir_bin = len(host_halos_this_parent_mvir_bin)\n",
    "    n_subhalos_this_parent_mvir_bin   = len(subhalos_this_parent_mvir_bin)\n",
    "\n",
    "    target_occ_host_halos = int(total_occ_host_halos_by_parent_mvir[i])\n",
    "    target_occ_subhalos   = int(total_occ_subhalos_by_parent_mvir[i])\n",
    "    \n",
    "    if (target_occ_host_halos > 0) | (target_occ_subhalos > 0) | (i%100==0):\n",
    "        print(f\"{log_mvir_cens[i]}\\t{target_occ_host_halos}\\t{target_occ_subhalos}\")\n",
    "    \n",
    "    indices = np.where(log_parent_mvir_mask)[0]            \n",
    "    \n",
    "    #-- populate host halos with central galaxies\n",
    "    if target_occ_host_halos > 0:\n",
    "        print(n_host_halos_this_parent_mvir_bin, target_occ_host_halos)\n",
    "        #-- check that target occupation number does not exceed number of available host halos\n",
    "        # assert(n_host_halos_this_parent_mvir_bin >= target_occ_host_halos)\n",
    "        indices = np.where(log_parent_mvir_mask & is_host_halo)[0]            \n",
    "        if (target_occ_host_halos < n_host_halos_this_parent_mvir_bin):\n",
    "            occ_host_halos = indices[np.random.choice(len(indices), target_occ_host_halos, replace=False)]\n",
    "            halocat[\"galaxy\"][occ_host_halos] = True\n",
    "        else:\n",
    "            halocat[\"galaxy\"][indices] = True\n",
    "\n",
    "    #-- populate host halos with satellite galaxies\n",
    "    if target_occ_subhalos > 0:\n",
    "        print(n_subhalos_this_parent_mvir_bin, target_occ_subhalos)\n",
    "        #-- check that target occupation number does not exceed number of available subhalos\n",
    "        # assert(n_subhalos_this_parent_mvir_bin >= target_occ_subhalos)\n",
    "        indices = np.where(log_parent_mvir_mask & is_subhalo)[0]            \n",
    "        if (target_occ_subhalos < n_subhalos_this_parent_mvir_bin):\n",
    "            occ_subhalos = indices[np.random.choice(len(indices), target_occ_subhalos, replace=False)]\n",
    "            halocat[\"galaxy\"][occ_subhalos] = True\n",
    "        else:\n",
    "            halocat[\"galaxy\"][indices] = True\n",
    "\n",
    "            "
   ]
  },
  {
   "cell_type": "code",
   "execution_count": null,
   "metadata": {},
   "outputs": [],
   "source": [
    "galcat = halocat[halocat[\"galaxy\"]==True]\n",
    "\n",
    "is_cen = galcat[\"upid\"] == -1\n",
    "is_sat = ~is_cen\n",
    "\n",
    "print(len(galcat[is_sat]) / len(galcat))\n"
   ]
  },
  {
   "cell_type": "code",
   "execution_count": null,
   "metadata": {},
   "outputs": [],
   "source": [
    "print(len(galcat)/(1000.**3))\n"
   ]
  },
  {
   "cell_type": "markdown",
   "metadata": {},
   "source": [
    "## Plot target vs achieved halo occupation numbers"
   ]
  },
  {
   "cell_type": "code",
   "execution_count": null,
   "metadata": {},
   "outputs": [],
   "source": [
    "c_cen = \"blue\"\n",
    "c_sat = \"darkorange\"\n",
    "\n",
    "fig, axes = plt.subplots(2, 1, figsize=(10,10), sharex=True)\n",
    "\n",
    "ax = axes[0]\n",
    "ax.plot(log_mvir_cens, total_host_halos_by_parent_mvir, color=c_cen, ls=\"--\", label=\"all host halos\")\n",
    "ax.plot(log_mvir_cens, total_occ_host_halos_by_parent_mvir, color=c_cen, label=\"occupied host halos\")\n",
    "\n",
    "ax.plot(log_mvir_cens, total_subhalos_by_parent_mvir, color=c_sat, ls=\"--\", label=\"all subhalos\")\n",
    "ax.plot(log_mvir_cens, total_occ_subhalos_by_parent_mvir, color=c_sat, label=\"occupied subhalos\")\n",
    "\n",
    "ax.plot(log_mvir_cens, np.histogram(np.log10(galcat[\"parent_mvir\"][is_cen]), bins=log_mvir_bins)[0], color=c_cen, lw=12, alpha=0.2)\n",
    "ax.plot(log_mvir_cens, np.histogram(np.log10(galcat[\"parent_mvir\"][is_sat]), bins=log_mvir_bins)[0], color=c_sat, lw=12, alpha=0.3)\n",
    "\n",
    "ax.legend(markerfirst=False)\n",
    "ax.set_ylabel(\"number of halos\")\n",
    "\n",
    "ax.semilogy()\n",
    "ax.set_xlim(12,15.2)\n",
    "#ax.set_ylim(1, 1e7)\n",
    "\n",
    "ax = axes[1]\n",
    "ax.plot(log_mvir_cens, total_occ_host_halos_by_parent_mvir / total_host_halos_by_parent_mvir, color=c_cen,\n",
    "       label=\"host halos\")\n",
    "ax.plot(log_mvir_cens, total_occ_subhalos_by_parent_mvir / total_subhalos_by_parent_mvir, color=c_sat,\n",
    "       label=\"subhalos\")\n",
    "\n",
    "ax.set_ylim(1e-3,2)\n",
    "\n",
    "ax.set_xlabel(r\"$\\log\\ (\\ $host halo $M_{\\rm vir}\\ )$\")\n",
    "ax.set_ylabel(\"occupation fraction\")\n",
    "ax.legend()\n",
    "ax.semilogy()\n",
    "\n",
    "plt.tight_layout()\n",
    "plt.subplots_adjust(hspace=0.025)\n",
    "plt.show()\n"
   ]
  },
  {
   "cell_type": "markdown",
   "metadata": {},
   "source": [
    "## Clustering"
   ]
  },
  {
   "cell_type": "code",
   "execution_count": null,
   "metadata": {},
   "outputs": [],
   "source": [
    "from scipy.signal import savgol_filter\n",
    "boxsize  = 1000.\n",
    "nthreads = 2\n",
    "pimax    = 150.\n",
    "\n",
    "extra_mask = np.ones(len(galcat), dtype=bool)\n",
    "# extra_mask = galcat[\"mvir\"] >= 10**(12)\n",
    "\n",
    "fig, ax = plt.subplots(1, 1, figsize=(9,8))\n",
    "\n",
    "ax.set_xlim(0.03,40)\n",
    "ax.set_ylim(50,300)\n",
    "ax.tick_params(axis=\"both\", which=\"major\", labelsize=24)\n",
    "\n",
    "ax.set_xlabel(fig_labels[\"rp\"], fontsize=26)\n",
    "ax.set_ylabel(r\"$r_{\\rm p}\\times\\omega_{\\rm p}(r_{\\rm p})\\ \\left(h^{-1}{\\rm Mpc}^2\\right)$\", fontsize=26)\n",
    "    \n",
    "b = ascii.read(bin_file_zhou)\n",
    "rp_bins = np.concatenate([b[\"col1\"],[b[\"col2\"][-1]]])\n",
    "rp_mids = 0.5*(rp_bins[1:] + rp_bins[:-1])\n",
    "\n",
    "out = []\n",
    "for (u,v,w) in ((\"x\",\"y\",\"z\"),(\"y\",\"z\",\"x\"),(\"z\",\"x\",\"y\")):\n",
    "    xx = galcat[u][extra_mask]\n",
    "    yy = galcat[v][extra_mask]\n",
    "    zz = galcat[w][extra_mask]\n",
    "\n",
    "    wp_mod = wp_corrfunc(boxsize, pimax, nthreads, bin_file_zhou, xx, yy, zz, output_rpavg=False)[\"wp\"]\n",
    "    ax.plot(rp_mids, rp_mids*wp_mod, color=\"blue\", ls=\"--\", alpha=0.5)#, label=r\"model ($r_{\\rm p} > 0.10\\ h^{-1}{\\rm Mpc}$)\", lw=2)\n",
    "\n",
    "#wp_mean = np.mean(np.array(out).T, axis=1)\n",
    "\n",
    "# ax.plot(rp_mids, rp_mids*wp_mean, color=\"blue\")#, label=r\"model ($r_{\\rm p} > 0.10\\ h^{-1}{\\rm Mpc}$)\", lw=2)\n",
    "# ax.scatter(rp_mids, rp_mids*wp_mean, color=\"blue\")#, label=r\"model ($r_{\\rm p} > 0.10\\ h^{-1}{\\rm Mpc}$)\", lw=2)\n",
    "# ax.legend()#numpoints=2, handlelength=2, fontsize=24, loc=2, handletextpad=0.2, labelspacing=0.25)\n",
    "\n",
    "ax.semilogx()\n",
    "ax.set_yticks(np.arange(50, 301, 25))\n",
    "ax.grid()\n",
    "ax.set_title(r\"$z_{\\rm sim} = $\" + f\"{redshift:.3f}\", fontsize=24)\n",
    "\n",
    "ax.fill_between((ax.get_xlim()[0],0.1),ax.get_ylim()[1]*np.ones(2), color=\"gray\", alpha=0.2)\n",
    "ax.fill_between((20,ax.get_xlim()[1]),ax.get_ylim()[1]*np.ones(2), color=\"gray\", alpha=0.2)\n",
    "\n",
    "# figname = f\"{BASEDIR}/figures/zhou_zsim{str(np.round(redshift,3)).replace('.','p')}.png\"\n",
    "\n",
    "# print(f\"Saving {figname}...\")\n",
    "# plt.savefig(figname, dpi=200, bbox_inches=\"tight\", pad_inches=0.1)\n",
    "\n",
    "# plt.show()\n",
    "    \n"
   ]
  },
  {
   "cell_type": "markdown",
   "metadata": {},
   "source": [
    "# Comparison of radial LRG satellite distributions (Zhou+ 2021 vs my model)"
   ]
  },
  {
   "cell_type": "code",
   "execution_count": null,
   "metadata": {},
   "outputs": [],
   "source": [
    "# #-- load my model galaxy catalog with LRG flags\n",
    "# galcat = Table(np.load(f\"{BASEDIR}/mocks/mdpl2/vpeak/south/color_scatter/zsnap0p42531_zmaglim20p7_Mzlimn21p6_rpmin0p1Mpch_brightest-mag-bin-rp1Mpch_LRG-flagged.npy\"))\n",
    "\n",
    "# #-- isolate just LRGs\n",
    "# lrgcat = galcat[galcat[\"LRG_opt\"]==True]\n",
    "\n"
   ]
  },
  {
   "cell_type": "code",
   "execution_count": null,
   "metadata": {
    "scrolled": true
   },
   "outputs": [],
   "source": [
    "# %%time\n",
    "\n",
    "# #-- get satellite data for all central LRGs with satellites (Zhou model or mine)\n",
    "\n",
    "# host_halo_ids = lrgcat[\"halo_id\"][(lrgcat[\"upid\"]==-1)]\n",
    "# sats = []\n",
    "\n",
    "# for i,hhid in enumerate(host_halo_ids):\n",
    "#     these_sats = lrgcat[lrgcat[\"upid\"]==hhid]\n",
    "#     if len(these_sats) > 0:\n",
    "#         sats.append(these_sats)\n",
    "#     if (i%10000==0) & (i > 1):\n",
    "#         print(f\"{i} / {len(host_halo_ids)}\")\n",
    "        "
   ]
  },
  {
   "cell_type": "code",
   "execution_count": null,
   "metadata": {},
   "outputs": [],
   "source": [
    "#-- load my saved LRG satellite data\n",
    "sats = np.load(f\"{BASEDIR}/sats_Mz_lrg-opt_z0p42531.npy\")\n",
    "\n",
    "#-- load Zhou! 2021 saved LRG satellite data\n",
    "sats_zhou = np.load(f\"{BASEDIR}/sats_zhou_lrg_z0p42531.npy\")\n"
   ]
  },
  {
   "cell_type": "code",
   "execution_count": null,
   "metadata": {},
   "outputs": [],
   "source": [
    "#-- galcat definition depends on whether working with Zhou+2021 model or my model\n",
    "\n",
    "# galcat = halocat[halocat[\"galaxy\"]==True]\n"
   ]
  },
  {
   "cell_type": "code",
   "execution_count": null,
   "metadata": {},
   "outputs": [],
   "source": [
    "%%time\n",
    "\n",
    "#-- compile radial LRG satellite distances for Zhou+ 2021\n",
    "radii_zhou = []\n",
    "\n",
    "for these_sats in sats_zhou[::5]:\n",
    "    this_cen = galcat[galcat[\"halo_id\"]==these_sats[\"upid\"][0]]\n",
    "    x0,y0,z0 = this_cen[\"x\"],this_cen[\"y\"],this_cen[\"z\"]\n",
    "    xx,yy,zz = these_sats[\"x\"],these_sats[\"y\"],these_sats[\"z\"]\n",
    "    rr = np.sqrt((xx - x0)**2 + (yy - y0)**2 + (zz - z0)**2)\n",
    "\n",
    "    radii_zhou.append(rr)\n",
    "\n",
    "radii_zhou = np.concatenate(radii_zhou)\n"
   ]
  },
  {
   "cell_type": "code",
   "execution_count": null,
   "metadata": {},
   "outputs": [],
   "source": [
    "%%time\n",
    "\n",
    "#-- compile radial LRG satellite distances for my model\n",
    "radii = []\n",
    "\n",
    "for these_sats in sats:\n",
    "    this_cen = lrgcat[lrgcat[\"halo_id\"]==these_sats[\"upid\"][0]]\n",
    "    x0,y0,z0 = this_cen[\"x\"],this_cen[\"y\"],this_cen[\"z\"]\n",
    "    xx,yy,zz = these_sats[\"x\"],these_sats[\"y\"],these_sats[\"z\"]\n",
    "    rr = np.sqrt((xx - x0)**2 + (yy - y0)**2 + (zz - z0)**2)\n",
    "\n",
    "    radii.append(rr)\n",
    "\n",
    "radii = np.concatenate(radii)\n"
   ]
  },
  {
   "cell_type": "code",
   "execution_count": null,
   "metadata": {},
   "outputs": [],
   "source": [
    "radii_zhou[radii_zhou > 10] = np.abs(1000. - radii_zhou)[radii_zhou > 10]\n",
    "radii[radii > 10] = np.abs(1000. - radii)[radii > 10]\n",
    "\n",
    "bins = np.arange(0,2.55,0.05)\n",
    "\n",
    "fig, ax = plt.subplots(1, 1, figsize=(8,6))\n",
    "\n",
    "ax.hist(radii_zhou, bins=bins, alpha=0.5, density=True, label=\"Zhou+ 2021\", color=\"blue\")\n",
    "ax.hist(radii, bins=bins, density=True, label=\"my model\", color=\"black\", histtype=\"step\", hatch=\"////\")\n",
    "ax.legend()\n",
    "\n",
    "ax.set_xlim(-0.05,2.5)\n",
    "ax.set_xlabel(\"radial distance ($h^{-1}$ Mpc)\")\n",
    "ax.set_ylabel(\"relative number of LRG satellites\")\n",
    "\n",
    "plt.show()\n"
   ]
  },
  {
   "cell_type": "code",
   "execution_count": null,
   "metadata": {},
   "outputs": [],
   "source": []
  },
  {
   "cell_type": "code",
   "execution_count": null,
   "metadata": {},
   "outputs": [],
   "source": [
    "# #-- plot NFW profile of select host halos in given catalog\n",
    "\n",
    "# def dens_prof(r, central):\n",
    "#     M    = np.array(central[\"mvir\"].data)\n",
    "#     rvir = np.array(central[\"rvir\"].data)\n",
    "#     rs   = np.array(central[\"rs\"].data)\n",
    "    \n",
    "#     phalo = M / ( (4/3)*np.pi*rvir**3 )\n",
    "#     c     = rvir / rs\n",
    "#     ANFW  = np.log(1 + c) - c / (1 + c)\n",
    "    \n",
    "#     x = np.array(r) / np.array(rvir)\n",
    "    \n",
    "#     return phalo / ( 3*ANFW*x*(1./c + x)**2 )\n",
    "\n",
    "# rr = np.logspace(-1,4,100)\n",
    "\n",
    "# fig, ax = plt.subplots(1, 1, figsize=(10,10))\n",
    "\n",
    "# for i in range(50):\n",
    "#     ax.loglog(rr, dens_prof(rr, galcat[galcat[\"upid\"]==-1][i]), color=\"blue\", alpha=0.05)\n",
    "\n",
    "# ax.set_xlim(0.1,1e4)\n",
    "# ax.set_ylim(1,1e10)\n",
    "\n",
    "# plt.show()\n",
    "\n"
   ]
  },
  {
   "cell_type": "markdown",
   "metadata": {},
   "source": [
    "# Halotools"
   ]
  },
  {
   "cell_type": "code",
   "execution_count": null,
   "metadata": {},
   "outputs": [],
   "source": [
    "# %%time\n",
    "\n",
    "# import halotools\n",
    "# from halotools.sim_manager import RockstarHlistReader, CachedHaloCatalog #,TabularAsciiReader\n",
    "\n",
    "# input_fname = \"/Users/aberti/Desktop/research/sims/mdpl2/CATALOGS/hlist_0.61420.list\"\n",
    "\n",
    "# output_fname = \"/Users/aberti/Desktop/research/sims/mdpl2/CATALOGS/a0p61420_vpeakmin125.hdf5\"\n",
    "\n",
    "# cols_to_keep = {\"halo_id\":(1,\"<i8\"), \"halo_pid\":(5,\"<i8\"), \"halo_upid\":(6,\"<i8\"), \"halo_mvir\":(10,\"<f8\"),\n",
    "#                 \"halo_rvir\":(11,\"<f8\"), \"halo_rs\":(12,\"<f8\"), \"halo_x\":(17,\"<f8\"), \"halo_y\":(18,\"<f8\"),\n",
    "#                 \"halo_z\":(19,\"<f8\"), \"halo_vx\":(20,\"<f8\"), \"halo_vy\":(21,\"<f8\"), \"halo_vz\":(22,\"<f8\"),\n",
    "#                 \"halo_vpeak\":(62,\"<f8\"),}\n",
    "\n",
    "# row_cut_min_dict = {\"halo_vpeak\":125}\n",
    "\n",
    "# columns_to_convert_from_kpc_to_mpc = (\"halo_rvir\", \"halo_rs\")\n",
    "\n",
    "# #-- metadata\n",
    "# simname       = \"mdpl2\"\n",
    "# halo_finder   = \"rockstar\"\n",
    "# version_name  = \"vpeakmin125\"\n",
    "# redshift      = 0.62813\n",
    "# Lbox          = 1000.\n",
    "# particle_mass = 1.51e9\n",
    "\n",
    "# reader = RockstarHlistReader(input_fname, cols_to_keep, output_fname, simname, halo_finder, redshift,\n",
    "#                              version_name, Lbox, particle_mass, row_cut_min_dict=row_cut_min_dict) \n"
   ]
  },
  {
   "cell_type": "code",
   "execution_count": null,
   "metadata": {
    "scrolled": false
   },
   "outputs": [],
   "source": [
    "# %%time\n",
    "\n",
    "# halocat = reader.read_halocat(columns_to_convert_from_kpc_to_mpc, write_to_disk=False, update_cache_log=False)\n",
    "\n",
    "# #-- doesn't work\n",
    "# # halocat = CachedHaloCatalog(simname=simname, halo_finder=halo_finder, version_name=version_name, redshift=redshift)\n",
    "\n"
   ]
  },
  {
   "cell_type": "code",
   "execution_count": null,
   "metadata": {},
   "outputs": [],
   "source": [
    "%%time\n",
    "\n",
    "#-- catalog columns\n",
    "halo_id   = halocat[\"id\"]\n",
    "halo_pid  = halocat[\"pid\"]\n",
    "halo_upid = halocat[\"upid\"]\n",
    "halo_mvir = halocat[\"mvir\"]\n",
    "halo_rvir = halocat[\"rvir\"]\n",
    "halo_rs   = halocat[\"rs\"]\n",
    "halo_x    = halocat[\"x\"]\n",
    "halo_y    = halocat[\"y\"]\n",
    "halo_z    = halocat[\"z\"]\n",
    "halo_vx   = halocat[\"vx\"]\n",
    "halo_vy   = halocat[\"vy\"]\n",
    "halo_vz   = halocat[\"vz\"]\n",
    "halo_nfw_conc = halocat[\"rvir\"]/halocat[\"rs\"]\n",
    "\n",
    "\n",
    "#-- metadata\n",
    "simname       = \"mdpl2\"\n",
    "halo_finder   = \"rockstar\"\n",
    "version_name  = \"vpeakmin125\"\n",
    "redshift      = 0.62813\n",
    "Lbox          = 1000.\n",
    "particle_mass = 1.51e9\n"
   ]
  },
  {
   "cell_type": "code",
   "execution_count": null,
   "metadata": {},
   "outputs": [],
   "source": [
    "%%time\n",
    "\n",
    "from halotools.sim_manager import UserSuppliedHaloCatalog\n",
    "\n",
    "kwargs = dict(redshift=redshift, Lbox=Lbox, particle_mass=particle_mass, halo_id=halo_id, halo_pid=halo_pid,\n",
    "              halo_mvir=halo_mvir, halo_x=halo_x, halo_y=halo_y, halo_z=halo_z, halo_upid=halo_upid, \n",
    "              halo_vx=halo_vx, halo_vy=halo_vy, halo_vz=halo_vz,\n",
    "              halo_rvir=halo_rvir, halo_rs=halo_rs, halo_nfw_conc=halo_nfw_conc)\n",
    "\n",
    "halo_catalog = UserSuppliedHaloCatalog(**kwargs)\n"
   ]
  },
  {
   "cell_type": "code",
   "execution_count": null,
   "metadata": {},
   "outputs": [],
   "source": [
    "from halotools.empirical_models import HodModelFactory\n",
    "from halotools.empirical_models import TrivialPhaseSpace, Zheng07Cens\n",
    "from halotools.empirical_models import NFWPhaseSpace, Zheng07Sats\n",
    "\n",
    "cens_occ_model  = Zheng07Cens(redshift=redshift)\n",
    "cens_prof_model = TrivialPhaseSpace(redshift=redshift)\n",
    "\n",
    "sats_occ_model  = Zheng07Sats(redshift=redshift)\n",
    "sats_prof_model = NFWPhaseSpace(redshift=redshift)\n",
    "\n",
    "model_instance = HodModelFactory(\n",
    "        centrals_occupation = cens_occ_model,\n",
    "        centrals_profile = cens_prof_model,\n",
    "        satellites_occupation = sats_occ_model,\n",
    "        satellites_profile = sats_prof_model)\n",
    "\n",
    "# The model_instance is a composite model\n",
    "# All composite models can directly populate N-body simulations\n",
    "# with mock galaxy catalogs using the populate_mock method:\n",
    "\n",
    "model_instance.populate_mock(halo_catalog, redshift=redshift)\n"
   ]
  },
  {
   "cell_type": "code",
   "execution_count": null,
   "metadata": {},
   "outputs": [],
   "source": []
  }
 ],
 "metadata": {
  "kernelspec": {
   "display_name": "Python 3",
   "language": "python",
   "name": "python3"
  },
  "language_info": {
   "codemirror_mode": {
    "name": "ipython",
    "version": 3
   },
   "file_extension": ".py",
   "mimetype": "text/x-python",
   "name": "python",
   "nbconvert_exporter": "python",
   "pygments_lexer": "ipython3",
   "version": "3.7.3"
  }
 },
 "nbformat": 4,
 "nbformat_minor": 4
}
