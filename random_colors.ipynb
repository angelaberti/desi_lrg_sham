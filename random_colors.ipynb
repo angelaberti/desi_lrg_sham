{
 "cells": [
  {
   "cell_type": "code",
   "execution_count": 1,
   "metadata": {},
   "outputs": [
    {
     "name": "stderr",
     "output_type": "stream",
     "text": [
      "/Library/Frameworks/Python.framework/Versions/3.7/lib/python3.7/site-packages/matplotlib/__init__.py:550: UserWarning: matplotlibrc text.usetex can not be used unless ghostscript-9.00 or later is installed on your system\n",
      "  % gs_req)\n"
     ]
    }
   ],
   "source": [
    "import os, sys\n",
    "import numpy as np\n",
    "\n",
    "from pathlib import Path\n",
    "\n",
    "from astropy.io import fits, ascii\n",
    "from astropy.table import Table, Column, vstack, hstack, join\n",
    "\n",
    "from scipy import interpolate\n",
    "import scipy.stats as stats\n",
    "\n",
    "import matplotlib.pyplot as plt\n",
    "import matplotlib as mpl\n",
    "\n",
    "%matplotlib inline\n",
    "\n",
    "sys.path.append(\"./py\")\n",
    "from utils import *\n",
    "\n",
    "sys.path.append(\"/Users/aberti/Desktop/research\")\n",
    "from plotutils import get_corners, fig_labels, get_colors, plot_settings\n",
    "plt.rcParams.update(**plot_settings)\n",
    "\n",
    "plt.rcParams[\"mathtext.fontset\"] = \"stix\"\n",
    "plt.rcParams[\"font.family\"] = \"STIXGeneral\"\n",
    "\n",
    "from params import BASEDIR, DATADIR, SIMDIR, H0, Om0\n",
    "from params import get_boxsize, get_zsnap_data, get_sham_var_bins, get_abs_mag_lim, get_abs_mag_bins_clust\n",
    "\n",
    "#-- bins for clustering (data and mocks)\n",
    "from params import H0 #, bin_file_comoving\n"
   ]
  },
  {
   "cell_type": "code",
   "execution_count": null,
   "metadata": {},
   "outputs": [],
   "source": []
  },
  {
   "cell_type": "markdown",
   "metadata": {},
   "source": [
    "<a class=\"anchor\" id=\"outline\"></a>\n",
    "\n",
    "* [Load mock catalog](#load_mock)\n",
    "* [Add scatter to colors](#color_scatter)\n",
    "* [LRG flagging](#lrg)\n",
    "\n",
    "\n",
    "# Set parameters"
   ]
  },
  {
   "cell_type": "code",
   "execution_count": 113,
   "metadata": {
    "scrolled": false
   },
   "outputs": [
    {
     "name": "stdout",
     "output_type": "stream",
     "text": [
      "Mz\n",
      "(0.4, 0.5)\n"
     ]
    }
   ],
   "source": [
    "band   = \"Mz\"\n",
    "zrange = (0.4,0.5)\n",
    "\n",
    "print(band)\n",
    "print(zrange)\n",
    "\n",
    "zmag_lim = 20.7\n",
    "sim_tag  = \"mdpl2\"\n",
    "sham_tag = \"vpeak\"\n",
    "d        = \"south\"\n",
    "pimax    = 150\n",
    "h        = H0/100.\n",
    "\n",
    "\n",
    "z_snaps, snap_nums, snaps = get_zsnap_data(sim_tag)\n",
    "\n",
    "vol_sim  = get_boxsize(sim_tag)**3\n",
    "a_snaps = [snaps[\"scale\"][snaps[\"snapnum\"]==sn].data[0] for sn in snap_nums]\n",
    "\n",
    "zmin, zmax  = zrange\n",
    "cat_tag     = get_cat_tag(d,zrange)\n",
    "abs_mag_lim = get_abs_mag_lim(zmin, band)\n",
    "zsim        = np.array(z_snaps)[ np.round(z_snaps,1)==zmin ][0]\n",
    "zsnap_tag   = get_zsnap_tag(zsim)\n",
    "zmag_tag    = get_zmag_tag(zmag_lim)\n",
    "\n",
    "MW1lim = get_abs_mag_lim(zmin,\"MW1\")\n",
    "Mrlim  = get_abs_mag_lim(zmin,\"Mr\")\n",
    "Mzlim  = get_abs_mag_lim(zmin,\"Mz\")\n",
    "if band==\"MW1\":\n",
    "    abs_mag_lim_tag = get_MW1_tag(MW1lim)\n",
    "    abs_mag_range   = np.array((-24.5,-21.99))\n",
    "    model_mag_range = np.array((-22.25,-25.35))\n",
    "elif band==\"Mr\":\n",
    "    abs_mag_lim_tag = get_Mr_tag(Mrlim)\n",
    "    abs_mag_range   = np.array((-23,-20.49))\n",
    "    model_mag_range = np.array((-20.8,-23.85))\n",
    "elif band==\"Mz\":\n",
    "    abs_mag_lim_tag = get_Mz_tag(Mzlim)\n",
    "    abs_mag_range   = np.array((-23.75,-21.24))\n",
    "    model_mag_range = np.array((-21.6,-24.6))\n",
    "else:\n",
    "    raise Exception()\n",
    "    \n",
    "abs_mag_bins_clust = get_abs_mag_bins_clust(zmin,band)[::-1]#[:-1]\n",
    "    \n",
    "# print(abs_mag_bins_clust)\n"
   ]
  },
  {
   "cell_type": "code",
   "execution_count": 114,
   "metadata": {},
   "outputs": [
    {
     "name": "stdout",
     "output_type": "stream",
     "text": [
      "/Users/aberti/Desktop/research/desi_lrg_sham/data/hod_zsim0p42531_Mz_csrand.npy\n"
     ]
    }
   ],
   "source": [
    "cs_tag = \"csrand\"\n",
    "\n",
    "# fname = f\"{BASEDIR}/data/hod_zsim{str(zsim).replace('.','p')}_{band}.npy\"\n",
    "fname = f\"{BASEDIR}/data/hod_zsim{str(zsim).replace('.','p')}_{band}_{cs_tag}.npy\"\n",
    "print(fname)\n",
    "\n",
    "this_hod_data = Table(np.load(fname))\n"
   ]
  },
  {
   "cell_type": "code",
   "execution_count": 115,
   "metadata": {},
   "outputs": [
    {
     "name": "stdout",
     "output_type": "stream",
     "text": [
      "0.4 Mz csrand\n"
     ]
    },
    {
     "data": {
      "text/html": [
       "<i>Table length=12</i>\n",
       "<table id=\"table140445404189304\" class=\"table-striped table-bordered table-condensed\">\n",
       "<thead><tr><th>Mvir</th><th>Ncen_LRG-opt</th><th>Ncen_LRG-IR</th></tr></thead>\n",
       "<thead><tr><th>float64</th><th>float64</th><th>float64</th></tr></thead>\n",
       "<tr><td>13.95</td><td>0.82</td><td>0.79</td></tr>\n",
       "<tr><td>14.05</td><td>0.85</td><td>0.83</td></tr>\n",
       "<tr><td>14.15</td><td>0.86</td><td>0.85</td></tr>\n",
       "<tr><td>14.25</td><td>0.88</td><td>0.85</td></tr>\n",
       "<tr><td>14.35</td><td>0.89</td><td>0.89</td></tr>\n",
       "<tr><td>14.45</td><td>0.88</td><td>0.89</td></tr>\n",
       "<tr><td>14.55</td><td>0.9</td><td>0.86</td></tr>\n",
       "<tr><td>14.65</td><td>0.89</td><td>0.88</td></tr>\n",
       "<tr><td>14.75</td><td>0.84</td><td>0.84</td></tr>\n",
       "<tr><td>14.85</td><td>0.91</td><td>0.91</td></tr>\n",
       "<tr><td>14.95</td><td>0.55</td><td>0.58</td></tr>\n",
       "<tr><td>15.25</td><td>0.67</td><td>0.6</td></tr>\n",
       "</table>"
      ],
      "text/plain": [
       "<Table length=12>\n",
       "  Mvir  Ncen_LRG-opt Ncen_LRG-IR\n",
       "float64   float64      float64  \n",
       "------- ------------ -----------\n",
       "  13.95         0.82        0.79\n",
       "  14.05         0.85        0.83\n",
       "  14.15         0.86        0.85\n",
       "  14.25         0.88        0.85\n",
       "  14.35         0.89        0.89\n",
       "  14.45         0.88        0.89\n",
       "  14.55          0.9        0.86\n",
       "  14.65         0.89        0.88\n",
       "  14.75         0.84        0.84\n",
       "  14.85         0.91        0.91\n",
       "  14.95         0.55        0.58\n",
       "  15.25         0.67         0.6"
      ]
     },
     "execution_count": 115,
     "metadata": {},
     "output_type": "execute_result"
    }
   ],
   "source": [
    "show = Table(data=[this_hod_data[\"mvir_mids\"],\n",
    "                  np.round(this_hod_data[\"mean_num_cen_opt_lrg_per_parent_mvir_bin\"],2),\n",
    "                  np.round(this_hod_data[\"mean_num_cen_IR_lrg_per_parent_mvir_bin\"],2)],\n",
    "             names=(\"Mvir\", \"Ncen_LRG-opt\", \"Ncen_LRG-IR\"))\n",
    "\n",
    "print(zmin, band, (cs_tag if \"cs\" in fname else \"\"))\n",
    "\n",
    "show[show[\"Mvir\"] > 13.9]\n"
   ]
  },
  {
   "cell_type": "markdown",
   "metadata": {},
   "source": [
    "<a class=\"anchor\" id=\"load_mock\"></a>\n",
    "# Load mock\n",
    "\n",
    "[BACK TO TOP](#outline)\n",
    "\n",
    "[JUMP TO COLOR SCATTER](#color_scatter)\n"
   ]
  },
  {
   "cell_type": "code",
   "execution_count": 86,
   "metadata": {},
   "outputs": [
    {
     "name": "stdout",
     "output_type": "stream",
     "text": [
      "/Users/aberti/Desktop/research/desi_lrg_sham/mocks/mdpl2/vpeak/south/color_scatter/zsnap0p62813_MW1limn23p15_galcat-LRG.npy\n",
      "CPU times: user 763 ms, sys: 635 ms, total: 1.4 s\n",
      "Wall time: 1.42 s\n"
     ]
    }
   ],
   "source": [
    "%%time\n",
    "\n",
    "# f = f\"{BASEDIR}/mocks/{sim_tag}/{sham_tag}/{d}/{zsnap_tag}_{abs_mag_lim_tag}\"\n",
    "f = f\"{BASEDIR}/mocks/{sim_tag}/{sham_tag}/{d}/color_scatter/{zsnap_tag}_{abs_mag_lim_tag}\"\n",
    "\n",
    "# galcat_fname = f\"{f}_galcat-hist-LRG.npy\"\n",
    "galcat_fname = f\"{f}_galcat-LRG.npy\"\n",
    "\n",
    "print(galcat_fname)\n",
    "\n",
    "cat = Table(np.load(galcat_fname))\n"
   ]
  },
  {
   "cell_type": "markdown",
   "metadata": {},
   "source": [
    "<a class=\"anchor\" id=\"color_scatter\"></a>\n",
    "## Add scatter to colors\n",
    "\n",
    "[BACK TO TOP](#outline)\n"
   ]
  },
  {
   "cell_type": "code",
   "execution_count": 87,
   "metadata": {},
   "outputs": [],
   "source": [
    "if band==\"Mz\":\n",
    "    if zmin==0.6:\n",
    "        abs_mag_bins = np.concatenate( [np.round(np.arange(abs_mag_lim,-24.8,-0.05),2),\n",
    "                                       [-24.8,-24.9,-25,-25.5,np.nanmin(cat[band])] ])\n",
    "    elif (zmin==0.5) | (zmin==0.4):\n",
    "        abs_mag_bins = np.concatenate( [np.round(np.arange(abs_mag_lim,-24.8,-0.05),2),\n",
    "                                       [-24.8,-24.9,-25,np.nanmin(cat[band])] ])\n",
    "elif band==\"MW1\":\n",
    "    if zmin==0.6:\n",
    "        abs_mag_bins = np.concatenate( [np.round(np.arange(abs_mag_lim,-26.1,-0.05),2),\n",
    "                                       [-26.1,np.nanmin(cat[band])] ])\n",
    "    elif zmin==0.5:\n",
    "        abs_mag_bins = np.concatenate( [np.round(np.arange(abs_mag_lim,-25.8,-0.05),2),\n",
    "                                       [-25.8,-26,np.nanmin(cat[band])] ])\n",
    "    elif zmin==0.4:\n",
    "        abs_mag_bins = np.concatenate( [np.round(np.arange(abs_mag_lim,-25.5,-0.05),2),\n",
    "                                       [-25.5,-25.6,-25.7,np.nanmin(cat[band])] ])\n"
   ]
  },
  {
   "cell_type": "code",
   "execution_count": 88,
   "metadata": {},
   "outputs": [],
   "source": [
    "colors_by_mag_bin = {}\n",
    "\n",
    "for i in range(len(abs_mag_bins)-1):\n",
    "    abs_mag_min, abs_mag_max = abs_mag_bins[i:i+2]\n",
    "    abs_mag_bin_label = f\"{abs_mag_min:.2f}_{abs_mag_max:.2f}\".replace('.','p').replace('-','n')\n",
    "    \n",
    "    abs_mag_mask_model = (cat[band] < abs_mag_min) & (cat[band] >= abs_mag_max)\n",
    "    \n",
    "    colors_by_mag_bin[abs_mag_bin_label] = cat[abs_mag_mask_model]\n"
   ]
  },
  {
   "cell_type": "code",
   "execution_count": 90,
   "metadata": {},
   "outputs": [
    {
     "name": "stdout",
     "output_type": "stream",
     "text": [
      "rand\n",
      "CPU times: user 3.75 s, sys: 250 ms, total: 3.99 s\n",
      "Wall time: 4.02 s\n"
     ]
    },
    {
     "data": {
      "text/plain": [
       "True"
      ]
     },
     "execution_count": 90,
     "metadata": {},
     "output_type": "execute_result"
    }
   ],
   "source": [
    "%%time\n",
    "\n",
    "#-- add scatter to assigned colors\n",
    "\n",
    "color_cname = f\"r-{band[1:]}\"\n",
    "\n",
    "sigc = \"rand\"\n",
    "print(sigc)\n",
    "\n",
    "for k in colors_by_mag_bin.keys():\n",
    "    this_mag_bin_cat    = colors_by_mag_bin[k]\n",
    "    this_mag_bin_colors = this_mag_bin_cat[color_cname]\n",
    "\n",
    "    this_mag_bin_cat.sort(color_cname)\n",
    "\n",
    "    colors_ranked = this_mag_bin_cat[color_cname].data.copy()\n",
    "\n",
    "    colors_ranked_scattered = colors_ranked + np.random.normal(0, 3.0, len(colors_ranked))\n",
    "\n",
    "    if \"crs\" in this_mag_bin_cat.colnames:\n",
    "        this_mag_bin_cat.remove_column(\"crs\")\n",
    "    this_mag_bin_cat.add_column(Column(data=colors_ranked_scattered, name=\"crs\"))\n",
    "\n",
    "    this_mag_bin_cat.sort(\"crs\")\n",
    "\n",
    "    if f\"{color_cname}_cs{sigc}\" in this_mag_bin_cat.colnames:\n",
    "        this_mag_bin_cat.remove_column(f\"{color_cname}_cs{sigc}\")\n",
    "\n",
    "    this_mag_bin_cat.add_column(Column(data=colors_ranked, name=f\"{color_cname}_cs{sigc}\"))\n",
    "\n",
    "    if \"crs\" in this_mag_bin_cat.colnames:\n",
    "        this_mag_bin_cat.remove_column(\"crs\")\n",
    "\n",
    "test_cat = vstack(list(colors_by_mag_bin.values()))\n",
    "\n",
    "len(test_cat)==len(cat)\n",
    "\n"
   ]
  },
  {
   "cell_type": "code",
   "execution_count": 91,
   "metadata": {},
   "outputs": [
    {
     "data": {
      "image/png": "[encoded data removed]",
      "text/plain": [
       "<Figure size 432x288 with 1 Axes>"
      ]
     },
     "metadata": {
      "needs_background": "light"
     },
     "output_type": "display_data"
    }
   ],
   "source": [
    "plt.hist(test_cat[f\"r-{band[1:]}_csrand\"], bins=np.linspace(0.1,3), alpha=0.2)\n",
    "plt.hist(test_cat[f\"r-{band[1:]}\"], bins=np.linspace(0.1,3), alpha=0.2)\n",
    "plt.show()\n"
   ]
  },
  {
   "cell_type": "code",
   "execution_count": 92,
   "metadata": {},
   "outputs": [
    {
     "data": {
      "image/png": "[encoded data removed]",
      "text/plain": [
       "<Figure size 432x288 with 1 Axes>"
      ]
     },
     "metadata": {
      "needs_background": "light"
     },
     "output_type": "display_data"
    }
   ],
   "source": [
    "ds = 1000\n",
    "\n",
    "# plt.scatter(test_cat[f\"r-{band[1:]}\"][::ds], test_cat[\"zstarve\"][::ds], alpha=0.2, s=2)\n",
    "# plt.scatter(test_cat[f\"r-{band[1:]}_cs1p0\"][::ds], test_cat[\"zstarve\"][::ds], alpha=0.2, s=2)\n",
    "# plt.scatter(test_cat[f\"r-{band[1:]}_csrand\"][::ds], test_cat[\"zstarve\"][::ds], alpha=0.2, s=2)\n",
    "\n",
    "plt.scatter(test_cat[f\"r-{band[1:]}_csrand\"][::ds], test_cat[f\"r-{band[1:]}_cs1p0\"][::ds], alpha=0.2, s=2)\n",
    "\n",
    "plt.show()\n",
    "\n"
   ]
  },
  {
   "cell_type": "markdown",
   "metadata": {},
   "source": [
    "<a class=\"anchor\" id=\"lrg\"></a>\n",
    "# LRG flagging\n",
    "\n",
    "[BACK TO TOP](#outline)\n"
   ]
  },
  {
   "cell_type": "code",
   "execution_count": 93,
   "metadata": {},
   "outputs": [
    {
     "name": "stdout",
     "output_type": "stream",
     "text": [
      "Loading /Users/aberti/Desktop/research/desi_lrg_sham/data/stats/lrgfrac_optical-select_W1-band_z0p60-0p70_south.npy...\n"
     ]
    },
    {
     "name": "stderr",
     "output_type": "stream",
     "text": [
      "/Library/Frameworks/Python.framework/Versions/3.7/lib/python3.7/site-packages/ipykernel_launcher.py:34: RuntimeWarning: invalid value encountered in true_divide\n"
     ]
    },
    {
     "name": "stdout",
     "output_type": "stream",
     "text": [
      "500/9048\t1.75\t-24.25\t168\t15\n",
      "600/9048\t1.80\t-23.60\t1377\t30\n",
      "1000/9048\t2.05\t-25.35\t3\t3\n",
      "1100/9048\t2.10\t-24.70\t116\t88\n",
      "1200/9048\t2.15\t-24.05\t1360\t455\n",
      "1300/9048\t2.20\t-23.40\t4731\t201\n",
      "1600/9048\t2.40\t-25.80\t1\t1\n",
      "1700/9048\t2.45\t-25.15\t95\t94\n",
      "1800/9048\t2.50\t-24.50\t1489\t1394\n",
      "1900/9048\t2.55\t-23.85\t6121\t4169\n",
      "2300/9048\t2.80\t-25.60\t32\t32\n",
      "2400/9048\t2.85\t-24.95\t183\t175\n",
      "2500/9048\t2.90\t-24.30\t710\t552\n",
      "2600/9048\t2.95\t-23.65\t1617\t8\n",
      "3000/9048\t3.20\t-25.40\t2\t1\n",
      "3100/9048\t3.25\t-24.75\t32\t21\n",
      "3200/9048\t3.30\t-24.10\t179\t10\n",
      "4900/9048\t4.30\t-26.10\t1\t1\n",
      "Loading /Users/aberti/Desktop/research/desi_lrg_sham/data/stats/lrgfrac_IR-select_W1-band_z0p60-0p70_south.npy...\n"
     ]
    },
    {
     "name": "stderr",
     "output_type": "stream",
     "text": [
      "/Library/Frameworks/Python.framework/Versions/3.7/lib/python3.7/site-packages/ipykernel_launcher.py:85: RuntimeWarning: invalid value encountered in true_divide\n"
     ]
    },
    {
     "name": "stdout",
     "output_type": "stream",
     "text": [
      "800/8446\t2.00\t-24.40\t292\t285\n",
      "1200/8446\t2.25\t-24.90\t90\t90\n",
      "1300/8446\t2.30\t-24.00\t2180\t874\n",
      "1600/8446\t2.50\t-25.40\t43\t43\n",
      "1700/8446\t2.55\t-24.50\t1622\t1618\n",
      "2000/8446\t2.75\t-25.90\t7\t7\n",
      "2100/8446\t2.80\t-25.00\t231\t230\n",
      "2200/8446\t2.85\t-24.10\t1568\t1514\n",
      "2500/8446\t3.05\t-25.50\t2\t2\n",
      "2600/8446\t3.10\t-24.60\t85\t80\n",
      "2700/8446\t3.15\t-23.70\t447\t218\n",
      "3000/8446\t3.35\t-25.10\t8\t7\n",
      "3100/8446\t3.40\t-24.20\t70\t44\n",
      "3500/8446\t3.65\t-24.70\t8\t5\n",
      "4400/8446\t4.20\t-24.80\t1\t1\n",
      "4800/8446\t4.45\t-25.30\t1\t1\n",
      "CPU times: user 4min 11s, sys: 2.3 s, total: 4min 13s\n",
      "Wall time: 4min 18s\n"
     ]
    }
   ],
   "source": [
    "%%time\n",
    "\n",
    "#-- add columns for LRG flagging\n",
    "for c in (f\"LRG_IR_cs{sigc}\", f\"LRG_opt_cs{sigc}\"):\n",
    "    if c in test_cat.colnames:\n",
    "        test_cat.remove_column(c)\n",
    "    test_cat.add_column(Column(np.zeros(len(test_cat), dtype=bool), name=c))\n",
    "\n",
    "#-- get model magnitudes and colors for LRG flagging\n",
    "model_mags    = test_cat[band]\n",
    "model_mag_min = np.min(model_mags)\n",
    "model_mag_max = np.max(model_mags)\n",
    "\n",
    "model_colors    = test_cat[f\"r-{band[1:]}_cs{sigc}\"]\n",
    "model_color_min = np.min(model_colors)\n",
    "model_color_max = np.max(model_colors)\n",
    "\n",
    "\n",
    "### OPTICAL LRG SELECTION ###\n",
    "\n",
    "lrgfrac_opt_fname = f\"{DATADIR}/stats/lrgfrac_optical-select_{band[1:]}-band_{cat_tag}.npy\"\n",
    "print(f\"Loading {lrgfrac_opt_fname}...\")\n",
    "\n",
    "mag_bins_opt, color_bins_opt, H_lrg_opt, H_full_opt = np.load(lrgfrac_opt_fname, allow_pickle=True)\n",
    "\n",
    "if model_mag_min < np.min(mag_bins_opt):\n",
    "    mag_bins_opt[0] = np.floor(model_mag_min)\n",
    "if model_mag_max > np.max(mag_bins_opt):\n",
    "    mag_bins_opt[-1] = model_mag_max\n",
    "\n",
    "if model_color_min < np.min(color_bins_opt):\n",
    "    color_bins_opt[0] = np.floor(model_color_min)\n",
    "if model_color_max > np.max(color_bins_opt):\n",
    "    color_bins_opt[-1] = model_color_max\n",
    "\n",
    "lrg_frac_opt = H_lrg_opt/H_full_opt\n",
    "\n",
    "N_bins = (len(color_bins_opt)-1)*(len(mag_bins_opt)-1)\n",
    "\n",
    "k = 1\n",
    "test_cat[f\"LRG_opt_cs{sigc}\"] = False\n",
    "\n",
    "for i in range(len(color_bins_opt)-1):\n",
    "    color_mask = (model_colors > color_bins_opt[i]) & (model_colors <= color_bins_opt[i+1])\n",
    "    for j in range(len(mag_bins_opt)-1):\n",
    "        mag_mask = (model_mags > mag_bins_opt[j]) & (model_mags <= mag_bins_opt[j+1])\n",
    "        bin_mask = mag_mask & color_mask\n",
    "        N_mock   = len(test_cat[bin_mask])\n",
    "        if N_mock > 0:\n",
    "            indices = np.where(bin_mask)[0]            \n",
    "            N_gal_opt = H_full_opt[i,j]\n",
    "            N_lrg_opt = H_lrg_opt[i,j]\n",
    "\n",
    "            targ_lrg_opt = 0\n",
    "            if (N_lrg_opt > 0) & (N_gal_opt > 0):\n",
    "                targ_lrg_opt = int(N_mock*lrg_frac_opt[i,j])\n",
    "\n",
    "            if (targ_lrg_opt > 0):\n",
    "                if (targ_lrg_opt < N_mock):\n",
    "                    selected = indices[np.random.choice(len(indices), targ_lrg_opt, replace=False)]\n",
    "                    test_cat[f\"LRG_opt_cs{sigc}\"][selected] = True\n",
    "                else:\n",
    "                    test_cat[f\"LRG_opt_cs{sigc}\"][indices] = True\n",
    "\n",
    "            if (targ_lrg_opt > 0) and (k%100==0):\n",
    "                print(f\"{k}/{N_bins}\\t{color_bins_opt[i]:.2f}\\t{mag_bins_opt[j]:.2f}\\t{N_mock}\\t{targ_lrg_opt}\")\n",
    "        k += 1\n",
    "\n",
    "\n",
    "### IR LRG SELECTION ###\n",
    "\n",
    "lrgfrac_IR_fname = f\"{DATADIR}/stats/lrgfrac_IR-select_{band[1:]}-band_{cat_tag}.npy\"\n",
    "print(f\"Loading {lrgfrac_IR_fname}...\")\n",
    "\n",
    "mag_bins_IR, color_bins_IR, H_lrg_IR, H_full_IR = np.load(lrgfrac_IR_fname, allow_pickle=True)\n",
    "\n",
    "if model_mag_min < np.min(mag_bins_IR):\n",
    "    mag_bins_IR[0] = np.floor(model_mag_min)\n",
    "if model_mag_max > np.max(mag_bins_IR):\n",
    "    mag_bins_IR[-1] = model_mag_max\n",
    "\n",
    "if model_color_min < np.min(color_bins_IR):\n",
    "    color_bins_IR[0] = np.floor(model_color_min)\n",
    "if model_color_max > np.max(color_bins_IR):\n",
    "    color_bins_IR[-1] = model_color_max\n",
    "\n",
    "lrg_frac_IR = H_lrg_IR/H_full_IR\n",
    "\n",
    "N_bins = (len(color_bins_IR)-1)*(len(mag_bins_IR)-1)\n",
    "\n",
    "k = 1\n",
    "test_cat[f\"LRG_IR_cs{sigc}\"] = False\n",
    "\n",
    "for i in range(len(color_bins_IR)-1):\n",
    "    color_mask = (model_colors > color_bins_IR[i]) & (model_colors <= color_bins_IR[i+1])\n",
    "    for j in range(len(mag_bins_IR)-1):\n",
    "        mag_mask = (model_mags > mag_bins_IR[j]) & (model_mags <= mag_bins_IR[j+1])\n",
    "        bin_mask = mag_mask & color_mask\n",
    "        N_mock   = len(test_cat[bin_mask])\n",
    "        if N_mock > 0:\n",
    "            indices = np.where(bin_mask)[0]            \n",
    "            N_gal_IR = H_full_IR[i,j]\n",
    "            N_lrg_IR = H_lrg_IR[i,j]\n",
    "\n",
    "            targ_lrg_IR = 0\n",
    "            if (N_lrg_IR > 0) & (N_gal_IR > 0):\n",
    "                targ_lrg_IR = int(N_mock*lrg_frac_IR[i,j])\n",
    "\n",
    "            if (targ_lrg_IR > 0):\n",
    "                if (targ_lrg_IR < N_mock):\n",
    "                    selected = indices[np.random.choice(len(indices), targ_lrg_IR, replace=False)]\n",
    "                    test_cat[f\"LRG_IR_cs{sigc}\"][selected] = True\n",
    "                else:\n",
    "                    test_cat[f\"LRG_IR_cs{sigc}\"][indices] = True\n",
    "\n",
    "            if (targ_lrg_IR > 0) and (k%100==0):\n",
    "                print(f\"{k}/{N_bins}\\t{color_bins_IR[i]:.2f}\\t{mag_bins_IR[j]:.2f}\\t{N_mock}\\t{targ_lrg_IR}\")\n",
    "        k += 1\n"
   ]
  },
  {
   "cell_type": "code",
   "execution_count": 94,
   "metadata": {},
   "outputs": [
    {
     "name": "stdout",
     "output_type": "stream",
     "text": [
      "573171\n",
      "655498\n",
      "LRG_IR_cs0p05\t573172\n",
      "LRG_opt_cs0p05\t655499\n",
      "LRG_IR_cs0p1\t573171\n",
      "LRG_opt_cs0p1\t655499\n",
      "LRG_IR_cs0p2\t573170\n",
      "LRG_opt_cs0p2\t655498\n",
      "LRG_IR_cs0p4\t573168\n",
      "LRG_opt_cs0p4\t655496\n",
      "LRG_IR_cs0p6\t573170\n",
      "LRG_opt_cs0p6\t655498\n",
      "LRG_IR_cs0p8\t573172\n",
      "LRG_opt_cs0p8\t655498\n",
      "LRG_IR_cs1p0\t573169\n",
      "LRG_opt_cs1p0\t655497\n",
      "LRG_IR_csrand\t573172\n",
      "LRG_opt_csrand\t655499\n"
     ]
    }
   ],
   "source": [
    "print(len(test_cat[test_cat[\"LRG_IR\"]==True]))\n",
    "print(len(test_cat[test_cat[\"LRG_opt\"]==True]))\n",
    "\n",
    "for c in test_cat.colnames:\n",
    "    if (\"LRG_\" in c) & (\"_cs\" in c):\n",
    "        print(f\"{c}\\t{len(test_cat[test_cat[c]==True])}\")\n",
    "        \n",
    "        "
   ]
  },
  {
   "cell_type": "code",
   "execution_count": 95,
   "metadata": {},
   "outputs": [
    {
     "name": "stdout",
     "output_type": "stream",
     "text": [
      "Saving /Users/aberti/Desktop/research/desi_lrg_sham/mocks/mdpl2/vpeak/south/color_scatter/zsnap0p62813_MW1limn23p15_galcat-LRG.npy...\n"
     ]
    }
   ],
   "source": [
    "save_as = f\"{BASEDIR}/mocks/{sim_tag}/{sham_tag}/{d}/color_scatter/{zsnap_tag}_{abs_mag_lim_tag}_galcat-LRG.npy\"\n",
    "print(f\"Saving {save_as}...\")\n",
    "\n",
    "np.save(save_as, test_cat)\n"
   ]
  },
  {
   "cell_type": "code",
   "execution_count": null,
   "metadata": {},
   "outputs": [],
   "source": []
  }
 ],
 "metadata": {
  "kernelspec": {
   "display_name": "Python 3",
   "language": "python",
   "name": "python3"
  },
  "language_info": {
   "codemirror_mode": {
    "name": "ipython",
    "version": 3
   },
   "file_extension": ".py",
   "mimetype": "text/x-python",
   "name": "python",
   "nbconvert_exporter": "python",
   "pygments_lexer": "ipython3",
   "version": "3.7.3"
  }
 },
 "nbformat": 4,
 "nbformat_minor": 4
}
