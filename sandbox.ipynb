{
 "cells": [
  {
   "cell_type": "code",
   "execution_count": 1,
   "metadata": {},
   "outputs": [
    {
     "name": "stderr",
     "output_type": "stream",
     "text": [
      "/Library/Frameworks/Python.framework/Versions/3.7/lib/python3.7/site-packages/matplotlib/__init__.py:550: UserWarning: matplotlibrc text.usetex can not be used unless ghostscript-9.00 or later is installed on your system\n",
      "  % gs_req)\n"
     ]
    }
   ],
   "source": [
    "import os, sys\n",
    "import numpy as np\n",
    "\n",
    "from astropy.io import fits, ascii\n",
    "from astropy.table import Table, Column, vstack, hstack, join\n",
    "from astropy.cosmology import FlatLambdaCDM\n",
    "cosmo = FlatLambdaCDM(H0=70, Om0=0.3)\n",
    "from astropy.constants import c as c_speed\n",
    "from astropy import units as u\n",
    "\n",
    "# import itertools as it\n",
    "\n",
    "import matplotlib.pyplot as plt\n",
    "import matplotlib as mpl\n",
    "mpl.rcParams.update({\"text.usetex\": True})\n",
    "\n",
    "%matplotlib inline\n",
    "\n",
    "sys.path.append(\"/Users/aberti/Desktop/research/desi_lrg_sham\")\n",
    "\n",
    "from halocat_history import read_halocat#, load_trees, get_hist_from_tree, get_subhist_from_tree\n"
   ]
  },
  {
   "cell_type": "code",
   "execution_count": 27,
   "metadata": {},
   "outputs": [],
   "source": [
    "results = np.load(\"../corrfunc_test.npy\").item()\n",
    "patches = list(results.keys())\n",
    "\n",
    "cross = \"LxL\"\n",
    "\n",
    "count_sets       = [ [results[p][cross][pair_idx][0][\"npairs\"] for p in patches ] for pair_idx in range(4) ]\n",
    "count_set_totals = [ [results[p][cross][pair_idx][1] for p in patches ] for pair_idx in range(4) ]\n",
    "\n",
    "jk_sets       = [ [(sum(count_sets[pair_idx])-this_set) for this_set in count_sets[pair_idx]] for pair_idx in range(4) ] \n",
    "jk_set_totals = [ [(sum(count_set_totals[pair_idx])-this_tot) for this_tot in count_set_totals[pair_idx]] for pair_idx in range(4) ]\n",
    "\n"
   ]
  },
  {
   "cell_type": "code",
   "execution_count": 37,
   "metadata": {},
   "outputs": [],
   "source": [
    "D1D2_sets, D1R2_sets, D2R1_sets, R1R2_sets = jk_sets\n",
    "\n",
    "ND1_tots, ND2_tots, NR1_tots, NR2_tots = jk_set_totals\n"
   ]
  },
  {
   "cell_type": "code",
   "execution_count": 38,
   "metadata": {},
   "outputs": [
    {
     "data": {
      "text/plain": [
       "[146642,\n",
       " 146722,\n",
       " 141270,\n",
       " 137169,\n",
       " 137521,\n",
       " 137712,\n",
       " 140612,\n",
       " 137219,\n",
       " 137212,\n",
       " 137160]"
      ]
     },
     "execution_count": 38,
     "metadata": {},
     "output_type": "execute_result"
    }
   ],
   "source": [
    "NR1_tots"
   ]
  },
  {
   "cell_type": "code",
   "execution_count": 39,
   "metadata": {},
   "outputs": [],
   "source": [
    "for i in np.arange(len(patches)):\n",
    "    ND1  = ND1_tots[i]\n",
    "    ND2  = ND2_tots[i]\n",
    "    NR1  = NR1_tots[i]\n",
    "    NR2  = NR2_tots[i]\n",
    "    D1D2 = D1D2_sets[i]\n",
    "    D1R2 = D1R2_sets[i]\n",
    "    D2R1 = D2R1_sets[i]\n",
    "    R1R2 = R1R2_sets[i]\n"
   ]
  },
  {
   "cell_type": "code",
   "execution_count": 42,
   "metadata": {},
   "outputs": [],
   "source": [
    "R1R2 = R1R2.reshape(150,12)"
   ]
  },
  {
   "cell_type": "code",
   "execution_count": 49,
   "metadata": {},
   "outputs": [
    {
     "data": {
      "text/plain": [
       "array([0, 0, 0, 0, 0, 0, 0, 0, 0, 0, 0, 0, 0, 0, 0, 0, 0, 0, 0, 0, 0, 0,\n",
       "       0, 0, 0, 0, 0, 0, 0, 0, 0, 0, 0, 0, 0, 0, 0, 0, 0, 0, 0, 0, 0, 0,\n",
       "       0, 0, 0, 0, 0, 0, 0, 0, 1, 0, 0, 0, 0, 0, 0, 0, 0, 0, 0, 0, 0, 0,\n",
       "       0, 0, 0, 0, 0, 0, 0, 0, 0, 0, 0, 0, 0, 0, 0, 0, 0, 0, 0, 0, 0, 0,\n",
       "       0, 0, 0, 0, 0, 0, 0, 0, 0, 0, 0, 0, 0, 0, 0, 0, 0, 0, 0, 0, 0, 0,\n",
       "       0, 0, 0, 0, 0, 0, 0, 0, 0, 0, 0, 0, 0, 0, 0, 0, 0, 0, 0, 0, 0, 0,\n",
       "       0, 0, 0, 0, 0, 0, 0, 0, 0, 0, 0, 0, 0, 0, 0, 0, 0, 0, 0, 0, 0, 0,\n",
       "       0, 0, 0, 0, 0, 0, 0, 0, 0, 0, 0, 0, 0, 0, 0, 0, 0, 0, 0, 0, 0, 0,\n",
       "       0, 0, 0, 0, 0, 0, 0, 0, 0, 0, 0, 0, 0, 0, 0, 0, 0, 0, 0, 0, 0, 0,\n",
       "       0, 0, 0, 0, 0, 0, 0, 0, 0, 0, 0, 0, 0, 0, 0, 0, 0, 0, 0, 0, 0, 0,\n",
       "       0, 0, 0, 0, 0, 0, 0, 0, 0, 0, 0, 0, 0, 0, 0, 0, 0, 0, 0, 0, 0, 0,\n",
       "       0, 0, 0, 0, 0, 0, 0, 0, 0, 0, 0, 0, 0, 0, 0, 0, 0, 0, 0, 0, 0, 0,\n",
       "       0, 0, 0, 0, 0, 0, 0, 0, 0, 0, 0, 0, 0, 0, 0, 0, 0, 0, 0, 0, 0, 0,\n",
       "       0, 0, 0, 0, 0, 0, 0, 0, 0, 0, 0, 0, 0, 0, 0, 0, 0, 0, 0, 0, 0, 0,\n",
       "       0, 0, 0, 0, 0, 0, 0, 0, 0, 0, 0, 0, 0, 0, 0, 0, 0, 0, 0, 0, 0, 0,\n",
       "       0, 0, 0, 0, 0, 0, 0, 0, 0, 0, 0, 0, 0, 0, 0, 1, 1, 0, 0, 0, 0, 0,\n",
       "       0, 0, 0, 1, 0, 0, 0, 0, 0, 0, 0, 0, 0, 0, 0, 0, 0, 0, 0, 0, 0, 0,\n",
       "       0, 0, 0, 0, 0, 0, 0, 0, 0, 0, 0, 0, 0, 0, 0, 0, 0, 0, 1, 0, 0, 0,\n",
       "       0, 0, 0, 0, 0, 0, 0, 0, 0, 0, 0, 1, 0, 0, 0, 0, 0, 0, 0, 0, 0, 0,\n",
       "       0, 0, 0, 0, 0, 0, 0, 0, 0, 0, 0, 0, 0, 0, 0, 0, 0, 0, 0, 0, 0, 0,\n",
       "       0, 0, 0, 0, 0, 0, 0, 0, 0, 0, 1, 0, 0, 0, 0, 0, 0, 0, 0, 0, 0, 0,\n",
       "       0, 0, 0, 0, 0, 0, 0, 0, 0, 0, 0, 0, 0, 0, 0, 0, 0, 0, 0, 0, 0, 0,\n",
       "       0, 1, 0, 0, 0, 0, 0, 0, 0, 0, 1, 0, 0, 0, 0, 0, 0, 0, 0, 0, 0, 0,\n",
       "       1, 0, 0, 0, 0, 0, 0, 0, 0, 0, 0, 0, 0, 0, 1, 0, 1, 0, 0, 0, 1, 0,\n",
       "       0, 0, 0, 0, 0, 1, 0, 0, 0, 0, 1, 0, 0, 0, 0, 0, 0, 0, 0, 0, 1, 0,\n",
       "       0, 0, 1, 0, 0, 0, 0, 0, 0, 0, 0, 1, 0, 0, 0, 0, 0, 0, 0, 0, 0, 0,\n",
       "       0, 1, 0, 0, 0, 0, 0, 0, 0, 1, 0, 0, 0, 0, 0, 0, 0, 0, 0, 0, 0, 0,\n",
       "       0, 0, 0, 0, 0, 0], dtype=uint64)"
      ]
     },
     "execution_count": 49,
     "metadata": {},
     "output_type": "execute_result"
    }
   ],
   "source": [
    "R1R2.reshape(150,12)[:50].flatten()"
   ]
  },
  {
   "cell_type": "code",
   "execution_count": 51,
   "metadata": {},
   "outputs": [],
   "source": [
    "t = np.load(\"../wp_test.npy\").item()"
   ]
  },
  {
   "cell_type": "code",
   "execution_count": 81,
   "metadata": {},
   "outputs": [
    {
     "name": "stderr",
     "output_type": "stream",
     "text": [
      "/Library/Frameworks/Python.framework/Versions/3.7/lib/python3.7/site-packages/ipykernel_launcher.py:10: RuntimeWarning: Mean of empty slice\n",
      "  # Remove the CWD from sys.path while we load stuff.\n",
      "/Library/Frameworks/Python.framework/Versions/3.7/lib/python3.7/site-packages/numpy/lib/nanfunctions.py:1628: RuntimeWarning: Degrees of freedom <= 0 for slice.\n",
      "  keepdims=keepdims)\n",
      "/Library/Frameworks/Python.framework/Versions/3.7/lib/python3.7/site-packages/ipykernel_launcher.py:11: RuntimeWarning: Mean of empty slice\n",
      "  # This is added back by InteractiveShellApp.init_path()\n"
     ]
    },
    {
     "name": "stdout",
     "output_type": "stream",
     "text": [
      "80.0\tnan\t3.63\n",
      "90.0\t6.01\t5.51\n",
      "100.0\t3.98\t6.58\n",
      "110.0\t2.22\t8.16\n",
      "120.0\t2.57\t8.84\n",
      "130.0\t3.39\t8.78\n",
      "140.0\t5.83\t10.00\n",
      "150.0\t4.96\t9.10\n"
     ]
    },
    {
     "data": {
      "image/png": "[encoded data removed]",
      "text/plain": [
       "<Figure size 720x576 with 1 Axes>"
      ]
     },
     "metadata": {
      "needs_background": "light"
     },
     "output_type": "display_data"
    }
   ],
   "source": [
    "nbins     = 12\n",
    "rp_min    = 0.1\n",
    "rp_max    = 20.\n",
    "rp_bins   = np.logspace( np.log10(rp_min), np.log10(rp_max), nbins + 1 )\n",
    "\n",
    "fig, ax = plt.subplots(1, 1, figsize=(10,8))\n",
    "\n",
    "for pi in list(t[\"GxG\"].keys())[4:]:\n",
    "    d = t[\"GxG\"][pi]\n",
    "    SNR = np.nanmean(d, axis=0)/np.nanstd(d, axis=0)\n",
    "    print(\"{}\\t{:.2f}\\t{:.2f}\".format(pi, np.nanmean(SNR[rp_bins[:-1]<1]), np.nanmean(SNR[rp_bins[:-1]>1])))\n",
    "    ax.plot(rp_bins[:-1], SNR, label=pi)\n",
    "ax.semilogx()\n",
    "ax.legend()\n",
    "\n",
    "plt.show()\n"
   ]
  },
  {
   "cell_type": "code",
   "execution_count": 83,
   "metadata": {},
   "outputs": [
    {
     "name": "stdout",
     "output_type": "stream",
     "text": [
      "0.3\n",
      "0.4\n",
      "0.5\n",
      "0.6\n",
      "0.7\n"
     ]
    }
   ],
   "source": [
    "zbins = (0.3,0.4,0.5,0.6,0.7,0.8)\n",
    "for i in np.arange(len(zbins)-1):\n",
    "    print(zbins[i])"
   ]
  },
  {
   "cell_type": "code",
   "execution_count": null,
   "metadata": {},
   "outputs": [],
   "source": []
  },
  {
   "cell_type": "code",
   "execution_count": null,
   "metadata": {},
   "outputs": [],
   "source": [
    "gal = np.load(\"data/gal_z0p50-0p60_south_zmaglim20p41.npy\")\n",
    "lrg = np.load(\"data/lrg_z0p40-0p50_south_zmaglim20p41.npy\")\n"
   ]
  },
  {
   "cell_type": "code",
   "execution_count": null,
   "metadata": {},
   "outputs": [],
   "source": [
    "colors = [\"blue\",\"green\",\"magenta\",\"orange\",\"gray\"]\n",
    "\n",
    "bins = np.arange(1000,3000,20)\n",
    "\n",
    "for i in (3,4,5,6,7):\n",
    "    gal = np.load(f\"data/gal_z0p{i}0-0p{i+1}0_south_zmaglim20p41_pad.npy\")\n",
    "    plt.hist(gal[\"CZ\"][::1], alpha=0.2, color=colors[i-3], bins=bins)\n",
    "    gal = np.load(f\"data/gal_z0p{i}0-0p{i+1}0_south_zmaglim20p41.npy\")\n",
    "    plt.hist(gal[\"CZ\"][::1], alpha=0.5, histtype=\"step\", lw=2, color=colors[i-3], bins=bins)\n",
    "#     lrg = np.load(f\"data/lrg_z0p{i}0-0p{i+1}0_south_zmaglim20p41_pad.npy\")\n",
    "#     plt.hist(gal[\"CZ\"][::10], alpha=0.5)\n",
    "#     plt.hist(lrg[\"CZ\"], histtype=\"step\", lw=2)\n",
    "\n",
    "plt.show()\n"
   ]
  },
  {
   "cell_type": "code",
   "execution_count": null,
   "metadata": {},
   "outputs": [],
   "source": []
  },
  {
   "cell_type": "code",
   "execution_count": null,
   "metadata": {},
   "outputs": [],
   "source": [
    "#-- SNAPNUM | SCALE | REDSHIFT for Bolshoi-Planck simulation\n",
    "snaps = ascii.read(\"/Users/aberti/Desktop/research/sims/bolshoip/bolshoip_snaps.txt\")\n"
   ]
  },
  {
   "cell_type": "code",
   "execution_count": null,
   "metadata": {},
   "outputs": [],
   "source": [
    "snap_nums = (148,145,141,138,134,129,125,122,118,115,112)\n",
    "\n",
    "hist_idx  = [178-i for i in snap_nums]\n",
    "\n",
    "z_snaps = [snaps[\"redshift\"][snaps[\"snapnum\"]==sn].data[0] for sn in snap_nums]\n",
    "a_snaps = [snaps[\"scale\"][snaps[\"snapnum\"]==sn].data[0] for sn in snap_nums]\n",
    "\n",
    "# a_snaps_old = [snaps[\"scale\"][snaps[\"snapnum\"]==sn-1].data[0] for sn in snap_nums]\n",
    "\n",
    "print(\"snap\\tz\\tscale\\n\")\n",
    "for i,sn,z,a in zip(range(len(snap_nums)), snap_nums, z_snaps, a_snaps):\n",
    "    print(\"{}\\t{:.5f}\\t{:.5f}\".format(sn,z,a))\n",
    "    if (i-2)%3==0:\n",
    "        print(\"\")\n",
    "    \n",
    "# print(z_snaps)\n",
    "# print(a_snaps)\n",
    "# print(hist_idx)\n"
   ]
  },
  {
   "cell_type": "code",
   "execution_count": null,
   "metadata": {},
   "outputs": [],
   "source": []
  },
  {
   "cell_type": "code",
   "execution_count": null,
   "metadata": {},
   "outputs": [],
   "source": []
  },
  {
   "cell_type": "code",
   "execution_count": null,
   "metadata": {},
   "outputs": [],
   "source": []
  },
  {
   "cell_type": "code",
   "execution_count": null,
   "metadata": {},
   "outputs": [],
   "source": [
    "%%time\n",
    "\n",
    "spec_all = Table(np.load(\"../SV3_specz_BGS_LRG.npy\"))\n",
    "spec_all = spec_all[spec_all[\"Z\"] < 6]\n",
    "\n",
    "print(len(spec_all))\n"
   ]
  },
  {
   "cell_type": "code",
   "execution_count": null,
   "metadata": {
    "scrolled": false
   },
   "outputs": [],
   "source": [
    "spec_all.colnames"
   ]
  },
  {
   "cell_type": "code",
   "execution_count": null,
   "metadata": {},
   "outputs": [],
   "source": []
  },
  {
   "cell_type": "code",
   "execution_count": null,
   "metadata": {},
   "outputs": [],
   "source": [
    "patches = ( ((145,155),(0,5)),\n",
    "            ((176,186),(-3,3)),\n",
    "            ((206,224),(-3,8)),\n",
    "            ((192,198),(22,32)),\n",
    "            ((215,221),(32,38)),\n",
    "            ((250,258),(32,38)),\n",
    "            ((232,249),(40,46)),\n",
    "            ((212,219),(50,55)),\n",
    "            ((185,195),(58,64)),\n",
    "            ((239,247),(52,58)),\n",
    "            ((264,276),(60,70)),\n",
    "          )\n",
    "    "
   ]
  },
  {
   "cell_type": "code",
   "execution_count": null,
   "metadata": {},
   "outputs": [],
   "source": [
    "phot_all = Table(np.load(\"../DR9_photoz_BGS_LRG.npy\"))\n",
    "print(len(phot_all))\n"
   ]
  },
  {
   "cell_type": "code",
   "execution_count": null,
   "metadata": {},
   "outputs": [],
   "source": [
    "phot_mask = np.any( [((phot_all[\"RA\"] > p[0][0]) & (phot_all[\"RA\"] < p[0][1]) & (phot_all[\"DEC\"] > p[1][0]) & (phot_all[\"DEC\"] < p[1][1])) for p in patches], axis=0 )\n",
    "phot_all = phot_all[phot_mask]\n"
   ]
  },
  {
   "cell_type": "code",
   "execution_count": null,
   "metadata": {},
   "outputs": [],
   "source": []
  },
  {
   "cell_type": "code",
   "execution_count": null,
   "metadata": {},
   "outputs": [],
   "source": []
  },
  {
   "cell_type": "code",
   "execution_count": null,
   "metadata": {},
   "outputs": [],
   "source": []
  },
  {
   "cell_type": "code",
   "execution_count": null,
   "metadata": {},
   "outputs": [],
   "source": []
  },
  {
   "cell_type": "code",
   "execution_count": null,
   "metadata": {},
   "outputs": [],
   "source": []
  },
  {
   "cell_type": "code",
   "execution_count": null,
   "metadata": {},
   "outputs": [],
   "source": [
    "fig, ax = plt.subplots(1, 1, figsize=(20,10))\n",
    "\n",
    "# x, y = phot[\"RA\"], phot[\"DEC\"]\n",
    "# ax.scatter(x[::100], y[::100], s=2, color=\"gray\", label=\"photo-z data\")\n",
    "\n",
    "for i,p in enumerate(patches):\n",
    "    patch_mask = (phot_all[\"RA\"] > p[0][0]) & (phot_all[\"RA\"] < p[0][1]) & (phot_all[\"DEC\"] > p[1][0]) & (phot_all[\"DEC\"] < p[1][1])\n",
    "    x = phot_all[\"RA\"][patch_mask]\n",
    "    y = phot_all[\"DEC\"][patch_mask]\n",
    "    if i==0 : ax.scatter(x, y,  s=2, color=\"gray\", label=\"photo-z data\")\n",
    "    else : ax.scatter(x, y,  s=2, color=\"gray\")\n",
    "\n",
    "x, y = spec_all[\"RA\"], spec_all[\"DEC\"]\n",
    "ax.scatter(x, y, s=2, color=\"orange\", label=\"spec-z data\")\n",
    "\n",
    "ax.legend(loc=2, fontsize=18, markerscale=10)\n",
    "\n",
    "ax.set_xlabel(\"RA (degrees)\", fontsize=18)\n",
    "ax.set_ylabel(\"Dec (degrees)\", fontsize=18)\n",
    "ax.set_xlim(140,280)\n",
    "ax.set_xticks(np.arange(140,290,10))\n",
    "ax.set_ylim(-10,75)\n",
    "ax.set_yticks(np.arange(-10,80,5))\n",
    "ax.grid(ls=\":\")\n",
    "\n",
    "# for p in patches:\n",
    "#     ax.scatter(*p, color=\"red\", s=10)\n",
    "\n",
    "plt.show()\n"
   ]
  },
  {
   "cell_type": "code",
   "execution_count": null,
   "metadata": {},
   "outputs": [],
   "source": []
  },
  {
   "cell_type": "code",
   "execution_count": null,
   "metadata": {},
   "outputs": [],
   "source": []
  },
  {
   "cell_type": "code",
   "execution_count": null,
   "metadata": {},
   "outputs": [],
   "source": []
  },
  {
   "cell_type": "code",
   "execution_count": null,
   "metadata": {},
   "outputs": [],
   "source": [
    "if \"BRICK_OBJID\" in spec_all.colnames : spec_all.rename_column(\"BRICK_OBJID\",\"OBJID\")\n",
    "\n",
    "shared_colnames = [c for c in spec_all.colnames if c in phot_all.colnames]\n",
    "\n",
    "out = []\n",
    "for p in patches:\n",
    "    print(f\"PATCH: {p}\")\n",
    "    pmask_phot = (phot_all[\"RA\"] > p[0][0]) & (phot_all[\"RA\"] < p[0][1]) & (phot_all[\"DEC\"] > p[1][0]) & (phot_all[\"DEC\"] < p[1][1])\n",
    "    pmask_spec = (spec_all[\"RA\"] > p[0][0]) & (spec_all[\"RA\"] < p[0][1]) & (spec_all[\"DEC\"] > p[1][0]) & (spec_all[\"DEC\"] < p[1][1])\n",
    "    \n",
    "    phot = phot_all[pmask_phot]\n",
    "    spec = spec_all[pmask_spec]\n",
    "    \n",
    "    out.append(join(phot, spec, join_type=\"inner\", keys=shared_colnames))\n",
    "\n",
    "combined = vstack(out)\n",
    "    "
   ]
  },
  {
   "cell_type": "code",
   "execution_count": null,
   "metadata": {},
   "outputs": [],
   "source": [
    "combined\n"
   ]
  },
  {
   "cell_type": "code",
   "execution_count": null,
   "metadata": {},
   "outputs": [],
   "source": [
    "plt.scatter(combined[\"Z\"][::100], combined[\"Z_PHOT_MEAN\"][::100], s=2)\n"
   ]
  },
  {
   "cell_type": "code",
   "execution_count": null,
   "metadata": {},
   "outputs": [],
   "source": [
    "combined[\"Z\"]"
   ]
  },
  {
   "cell_type": "code",
   "execution_count": null,
   "metadata": {},
   "outputs": [],
   "source": [
    "spec = combined"
   ]
  },
  {
   "cell_type": "code",
   "execution_count": null,
   "metadata": {},
   "outputs": [],
   "source": [
    "fig, ax = plt.subplots(1, 1, figsize=(10,8))\n",
    "bins = np.arange(-1,1.01,0.01)\n",
    "ax.hist(spec[spec[\"Z_PHOT_MEAN\"] > 0][\"Z\"]-spec[spec[\"Z_PHOT_MEAN\"] > 0][\"Z_PHOT_MEAN\"], alpha=0.5, bins=bins)\n",
    "ax.hist(spec[spec[\"Z_PHOT_MEDIAN\"] > 0][\"Z\"]-spec[spec[\"Z_PHOT_MEDIAN\"] > 0][\"Z_PHOT_MEDIAN\"], alpha=0.5, bins=bins)\n",
    "\n",
    "plt.show()\n"
   ]
  },
  {
   "cell_type": "code",
   "execution_count": null,
   "metadata": {},
   "outputs": [],
   "source": [
    "np.save(\"../spec_matched.npy\", spec)\n",
    "np.save(\"../phot_multiples.npy\", vstack(phot_multiples))\n"
   ]
  },
  {
   "cell_type": "code",
   "execution_count": null,
   "metadata": {},
   "outputs": [],
   "source": []
  },
  {
   "cell_type": "code",
   "execution_count": null,
   "metadata": {},
   "outputs": [],
   "source": []
  },
  {
   "cell_type": "code",
   "execution_count": null,
   "metadata": {},
   "outputs": [],
   "source": []
  },
  {
   "cell_type": "code",
   "execution_count": null,
   "metadata": {},
   "outputs": [],
   "source": []
  },
  {
   "cell_type": "code",
   "execution_count": null,
   "metadata": {},
   "outputs": [],
   "source": []
  },
  {
   "cell_type": "code",
   "execution_count": null,
   "metadata": {},
   "outputs": [],
   "source": [
    "halocatfile = \"hlist_0.75172.list\"\n",
    "path_to_halocatfile = \"/Users/aberti/Desktop/research/sims/bolshoip\"\n",
    "# path_to_treefiles   = \"/Users/aberti/Downloads\"\n",
    "# path_to_locfile     = \"/Users/aberti/Downloads\"\n",
    "\n",
    "#-- DISPLAY HEADER DESCRIPTIONS\n",
    "\n",
    "f = open(f\"{path_to_halocatfile}/{halocatfile}\", \"r\")\n",
    "\n",
    "# for i in range(64):\n",
    "#     print(f.readline())    \n"
   ]
  },
  {
   "cell_type": "code",
   "execution_count": null,
   "metadata": {},
   "outputs": [],
   "source": [
    "%%time\n",
    "\n",
    "halocat = read_halocat(f\"{path_to_halocatfile}/{halocatfile}\", quiet=True)\n"
   ]
  },
  {
   "cell_type": "code",
   "execution_count": null,
   "metadata": {},
   "outputs": [],
   "source": []
  },
  {
   "cell_type": "code",
   "execution_count": null,
   "metadata": {},
   "outputs": [],
   "source": [
    "# %%time\n",
    "# #-- treefile information for all z=0 (sub)halos\n",
    "\n",
    "# loc = Table(np.load(f\"{path_to_locfile}/locations.npy\"))\n",
    "\n",
    "# loc.rename_column(\"TreeRootID\",\"id\")\n",
    "# loc.rename_column(\"Filename\",\"treefile\")\n",
    "# loc.remove_columns([\"FileID\",\"Offset\"])\n"
   ]
  },
  {
   "cell_type": "code",
   "execution_count": null,
   "metadata": {},
   "outputs": [],
   "source": []
  },
  {
   "cell_type": "code",
   "execution_count": null,
   "metadata": {},
   "outputs": [],
   "source": [
    "#-- Example Mz distribution from data\n",
    "\n",
    "fig, axes = plt.subplots(1, 2, figsize=(12,6), sharex=True)\n",
    "\n",
    "Mz_bins = np.arange(-24,-16,0.1)\n",
    "Mz = np.random.normal(-20.1,0.8,int(1e7))\n",
    "ng_eff = [0.2*len(Mz[Mz>i])/len(Mz) for i in Mz_bins]\n",
    "ng_eff[-1] = 0\n",
    "\n",
    "ax = axes[0]\n",
    "ax.hist(Mz, bins=Mz_bins)\n",
    "\n",
    "ax = axes[1]\n",
    "ax.plot(Mz_bins, ng_eff)\n",
    "\n",
    "for ax in axes : ax.set_xlim(-23,-17)\n",
    "\n",
    "plt.tight_layout()\n",
    "plt.show()\n"
   ]
  },
  {
   "cell_type": "code",
   "execution_count": null,
   "metadata": {},
   "outputs": [],
   "source": []
  },
  {
   "cell_type": "code",
   "execution_count": null,
   "metadata": {},
   "outputs": [],
   "source": [
    "fig, ax = plt.subplots(1, 1, figsize=(10,10))\n",
    "\n",
    "vpeak = halocat[\"vpeak\"]\n",
    "vmax  = halocat[\"vmax\"]\n",
    "vmax_mpeak = halocat[\"vmax\\\\@mpeak\"]\n",
    "log_mpeak  = np.log10(halocat[\"mpeak\"])\n",
    "                     \n",
    "mhalo_mask = log_mpeak > 10\n",
    "vpeak_mask = vpeak > 55\n",
    "\n",
    "mh_bins = np.arange(8.5,15,0.05)\n",
    "ax.hist(log_mpeak, bins=mh_bins, histtype=\"step\", color=\"black\", lw=2, label=r\"${\\rm All\\ (sub)halos}$\")\n",
    "ax.hist(log_mpeak[mhalo_mask], bins=mh_bins, color=\"gray\", alpha=0.5, label=r\"$\\log \\left(M_{\\rm halo}/h^{-1}M_{\\odot}\\right)>10$\")\n",
    "ax.hist(log_mpeak[vpeak_mask], bins=mh_bins, color=\"orange\", alpha=0.5, label=r\"$V_{\\rm peak} > 55\\ {\\rm km\\ s}^{-1}$\")\n",
    "\n",
    "ax.legend(frameon=False, fontsize=20)\n",
    "ax.set_xlabel(r\"$\\log \\left(M_{\\rm halo}/h^{-1}M_{\\odot}\\right)$\")\n",
    "ax.set_xlim(8.5,13)\n",
    "\n",
    "plt.show()\n"
   ]
  },
  {
   "cell_type": "code",
   "execution_count": null,
   "metadata": {},
   "outputs": [],
   "source": []
  },
  {
   "cell_type": "code",
   "execution_count": null,
   "metadata": {},
   "outputs": [],
   "source": [
    "%%time\n",
    "\n",
    "#-- Compute mass-limited (sub)halo distribution as function of Vcirc={Vpeak,Vmax,Vmax@Mpeak}\n",
    "\n",
    "logv_bins = np.arange(1,3.4,0.05)\n",
    "\n",
    "cdf_vpeak = [len(halocat[np.log10(vpeak) < b]) for b in logv_bins]\n",
    "cdf_vmax  = [len(halocat[np.log10(vmax) < b]) for b in logv_bins]\n",
    "cdf_vmax_mpeak = [len(halocat[np.log10(vmax_mpeak) < b]) for b in logv_bins]\n",
    "\n",
    "cdf_vpeak_mh_cut = [len(halocat[mhalo_mask & (np.log10(vpeak) < b)]) for b in logv_bins]\n",
    "cdf_vmax_mh_cut  = [len(halocat[mhalo_mask & (np.log10(vmax) < b)]) for b in logv_bins]\n",
    "cdf_vmax_mpeak_mh_cut = [len(halocat[mhalo_mask & (np.log10(vmax_mpeak) < b)]) for b in logv_bins]\n"
   ]
  },
  {
   "cell_type": "code",
   "execution_count": null,
   "metadata": {},
   "outputs": [],
   "source": []
  },
  {
   "cell_type": "code",
   "execution_count": null,
   "metadata": {},
   "outputs": [],
   "source": [
    "def _cdf_inv(cdf, vol_sim=250.**3):\n",
    "    return (np.max(cdf)-np.array(cdf))/vol_sim\n",
    "\n",
    "\n",
    "#-- maximum number density of mass-limited (sub)halos\n",
    "nh_max = np.max(_cdf_inv(cdf_vpeak_mh_cut))\n",
    "print(f\"nh_max:\\t{np.round(nh_max,3)}\")\n",
    "vol_sim = 250.**3\n",
    "\n",
    "#-- total number of (sub)halos in simulation (above mass limit)\n",
    "Nh_tot = int(nh_max*vol_sim)\n",
    "print(f\"Nh_tot:\\t{Nh_tot}\")\n",
    "\n",
    "#-- maximum galaxy number density from data\n",
    "ng_max = np.max(ng_eff)\n",
    "print(f\"ng_max:\\t{np.round(ng_max,3)}\")\n",
    "\n",
    "#-- number of (sub)halos above mass limit to select from simulation\n",
    "Nh_select = int(ng_max*vol_sim)\n",
    "print(f\"Nh_select: {Nh_select}\")\n",
    "\n",
    "#-- vpeak values of all (sub)halos above mass limit\n",
    "t = halocat.copy()\n",
    "halocat_mh_cut = t[mhalo_mask]\n",
    "del t\n",
    "vpeak_mh_cut   = halocat_mh_cut[\"vpeak\"]\n",
    "\n",
    "#-- random mask to selection Mh_select (sub)halos from Mh_tot mass-limited (sub)halos\n",
    "a = np.concatenate([np.ones(Nh_select, dtype=bool), np.zeros(Nh_tot-Nh_select, dtype=bool)])\n",
    "np.random.shuffle(a)\n",
    "\n",
    "#-- selected (sub)halos\n",
    "halocat_selected = halocat_mh_cut[a]\n",
    "#print(len(halocat_mh_cut[a]))\n",
    "\n",
    "#-- Nh_selected(< Vpeak) distribution\n",
    "cdf_vpeak_selected = [len(halocat_mh_cut[a & (np.log10(vpeak_mh_cut) < b)]) for b in logv_bins]\n"
   ]
  },
  {
   "cell_type": "code",
   "execution_count": null,
   "metadata": {},
   "outputs": [],
   "source": []
  },
  {
   "cell_type": "code",
   "execution_count": null,
   "metadata": {},
   "outputs": [],
   "source": [
    "fig, axes = plt.subplots(1, 2, figsize=(16,8))\n",
    "\n",
    "ax = axes[0]\n",
    "ax.hist(np.log10(vmax), bins=logv_bins, color=\"gray\", alpha=0.2, label=r\"$V_{\\rm max}$\")\n",
    "ax.hist(np.log10(vpeak), bins=logv_bins, color=\"magenta\", alpha=0.2, label=r\"$V_{\\rm peak}$\")\n",
    "ax.hist(np.log10(vmax_mpeak), bins=logv_bins, color=\"teal\", alpha=0.2, label=r\"$V_{\\rm max}@M_{\\rm peak}$\")\n",
    "\n",
    "ax.set_xlim(1,2.5)\n",
    "ax.set_xticks(np.arange(1,2.6,0.2))\n",
    "ax.set_ylim(0,2e6)\n",
    "ax.plot(np.log10(55)*np.ones(2),ax.get_ylim(),\"k--\", label=r\"$V_{\\rm circ}\\simeq55\\ {\\rm km\\ s}^{-1}$\")\n",
    "ax.legend(fontsize=20, loc=2)\n",
    "\n",
    "ax.hist(np.log10(vmax[mhalo_mask]), bins=logv_bins, histtype=\"step\", color=\"gray\", lw=2)\n",
    "ax.hist(np.log10(vpeak[mhalo_mask]), bins=logv_bins, histtype=\"step\", color=\"magenta\", lw=2)\n",
    "ax.hist(np.log10(vmax_mpeak[mhalo_mask]), bins=logv_bins, histtype=\"step\", color=\"teal\", lw=2)\n",
    "ax.set_xlabel(r\"$V_{\\rm circ}$\", fontsize=20)\n",
    "\n",
    "ax = axes[1]\n",
    "vol_sim = 250.**3\n",
    "\n",
    "ax.plot(logv_bins, _cdf_inv(cdf_vmax), color=\"gray\", lw=10, alpha=0.2)\n",
    "ax.plot(logv_bins, _cdf_inv(cdf_vpeak), color=\"magenta\", lw=10, alpha=0.2)\n",
    "ax.plot(logv_bins, _cdf_inv(cdf_vmax_mpeak), color=\"teal\", lw=10, alpha=0.2)\n",
    "ax.set_xlim(1.2,2.3)\n",
    "ax.set_xticks(np.arange(1.2,2.4,0.2))\n",
    "\n",
    "ax.plot(logv_bins, _cdf_inv(cdf_vmax_mh_cut), color=\"gray\", lw=2)\n",
    "ax.plot(logv_bins, _cdf_inv(cdf_vpeak_mh_cut), color=\"magenta\", lw=2)\n",
    "ax.plot(logv_bins, _cdf_inv(cdf_vmax_mpeak_mh_cut), color=\"teal\", lw=2)\n",
    "\n",
    "ax.plot(logv_bins, _cdf_inv(cdf_vpeak_selected), \":\", color=\"magenta\", lw=2)\n",
    "\n",
    "ax.set_xlabel(r\"$V_{\\rm circ}$\", fontsize=20)\n",
    "ax.set_ylabel(r\"$n_{\\rm halo}\\ (< V_{\\rm circ})\\ [h^3\\ {\\rm Mpc}^{-3}]$\", fontsize=20)\n",
    "\n",
    "plt.tight_layout()\n",
    "plt.show()\n"
   ]
  },
  {
   "cell_type": "code",
   "execution_count": null,
   "metadata": {},
   "outputs": [],
   "source": []
  },
  {
   "cell_type": "code",
   "execution_count": null,
   "metadata": {},
   "outputs": [],
   "source": [
    "%%time\n",
    "\n",
    "fig, axes = plt.subplots(1, 2, figsize=(12,6), sharey=True)\n",
    "\n",
    "t = halocat.copy()\n",
    "t.sort(\"mpeak\")\n",
    "halocat_mpeak_cut = t[-Nh_tot:]\n",
    "\n",
    "t = halocat.copy()\n",
    "t.sort(\"vpeak\")\n",
    "halocat_vpeak_cut = t[-Nh_tot:]\n",
    "del t\n",
    "\n",
    "ax = axes[0]\n",
    "bins = np.arange(1,3,0.02)\n",
    "ax.hist(np.log10(halocat[\"vpeak\"]), bins=bins, histtype=\"step\", color=\"black\", label=\"all (sub)halos\")\n",
    "ax.hist(np.log10(halocat_mpeak_cut[\"vpeak\"]), bins=bins, color=\"gray\", alpha=0.5, label=\"all (sub)halos above mass cut\")\n",
    "ax.hist(np.log10(halocat_selected[\"vpeak\"]), bins=bins, histtype=\"step\", color=\"black\", hatch=\"///\", label=\"selected (sub)halos above mass cut\")\n",
    "ax.legend(loc=2)#, frameon=True)\n",
    "ax.set_xlabel(r\"$\\\\log \\\\left( V_{\\\\rm peak}/{\\\\rm km\\\\ s}^{-1} \\\\right)$\")\n",
    "ax.set_xlim(0.95,2.65)\n",
    "ax.set_xticks(np.arange(1,2.8,0.2))\n",
    "\n",
    "\n",
    "ax = axes[1]\n",
    "bins = np.arange(9,13,0.05)\n",
    "ax.hist(np.log10(halocat[\"mpeak\"]), bins=bins, histtype=\"step\", color=\"black\", label=\"all (sub)halos\")\n",
    "ax.hist(np.log10(halocat_vpeak_cut[\"mpeak\"]), bins=bins, color=\"gray\", alpha=0.5, label=\"all (sub)halos above Vpeak cut\")\n",
    "ax.hist(np.log10(halocat_selected[\"mpeak\"]), bins=bins, histtype=\"step\", color=\"black\", hatch=\"///\", label=\"selected (sub)halos\")\n",
    "ax.legend()\n",
    "ax.set_xlabel(r\"$\\\\log \\\\left(M_{\\\\rm halo}/h^{-1}M_{\\\\odot}\\\\right)$\")\n",
    "ax.set_xlim(8.9,12.6)\n",
    "\n",
    "for ax in axes:\n",
    "    #ax.set_xlim(-24,-16)\n",
    "    ax.set_ylim(0,9e5)\n",
    "plt.tight_layout()\n",
    "plt.show()\n"
   ]
  },
  {
   "cell_type": "code",
   "execution_count": null,
   "metadata": {},
   "outputs": [],
   "source": []
  },
  {
   "cell_type": "code",
   "execution_count": null,
   "metadata": {},
   "outputs": [],
   "source": [
    "%%time\n",
    "\n",
    "from scipy import interpolate, stats\n",
    "\n",
    "nh_of_logv = interpolate.interp1d(logv_bins, _cdf_inv(cdf_vpeak_selected))\n",
    "mx_of_ng   = interpolate.interp1d(ng_eff, Mz_bins)\n",
    "\n",
    "nh_new = nh_of_logv(np.log10(halocat_selected[\"vpeak\"]))\n",
    "mx_new = mx_of_ng(nh_new)\n",
    "\n",
    "alpha = 0.2\n",
    "beta  = 0.1\n",
    "mx0   = -20\n",
    "\n",
    "sigma = alpha + beta*np.tanh((mx_new - mx0))\n",
    "\n",
    "mx_new_prime = stats.truncnorm(-2.5, 2.5, mx_new, sigma).rvs()\n",
    "\n",
    "for c in (\"mx_orig\",\"mx_temp\",\"mx_scattered\"):\n",
    "    if c in halocat_selected.colnames : halocat_selected.remove_column(c)\n",
    "halocat_selected.add_column(Column(mx_new,name=\"mx_orig\"))\n",
    "halocat_selected.add_column(Column(mx_new_prime,name=\"mx_temp\"))\n",
    "\n",
    "halocat_selected.sort(\"mx_temp\")\n",
    "halocat_selected.remove_column(\"mx_temp\")\n",
    "halocat_selected.add_column(Column(mx_new,name=\"mx_scattered\"))\n",
    "\n",
    "fig, axes = plt.subplots(1, 2, figsize=(12,6), sharex=True)\n",
    "\n",
    "ax = axes[0]\n",
    "ax.hist(Mz, bins=Mz_bins, histtype=\"step\", color=\"black\", lw=2, density=True)\n",
    "#mx_orig = halocat_selected[\"mx_orig\"]\n",
    "mx_scat = halocat_selected[\"mx_scattered\"]\n",
    "ax.hist(mx_scat, bins=Mz_bins, alpha=0.5, color=\"orange\", density=True)\n",
    "\n",
    "ax = axes[1]\n",
    "ax.plot(Mz_bins, ng_eff, lw=2, color=\"black\")\n",
    "ax.plot(Mz_bins, [len(mx_scat[mx_scat>i])/vol_sim for i in Mz_bins], lw=10, alpha=0.5, color=\"orange\")\n",
    "\n",
    "for ax in axes:\n",
    "    ax.set_xlim(-23,-17)\n",
    "    ax.set_xlabel(r\"$M_z$\")\n",
    "    \n",
    "plt.tight_layout()\n",
    "plt.show()\n"
   ]
  },
  {
   "cell_type": "code",
   "execution_count": null,
   "metadata": {},
   "outputs": [],
   "source": []
  },
  {
   "cell_type": "code",
   "execution_count": null,
   "metadata": {},
   "outputs": [],
   "source": [
    "# from matplotlib.image import NonUniformImage\n",
    "# from matplotlib.ticker import MaxNLocator\n",
    "from matplotlib.colors import BoundaryNorm\n",
    "\n",
    "fig = plt.figure(figsize=(12,6))#, sharex=True, sharey=True)\n",
    "\n",
    "xmin, xmax = 1.65, 2.9\n",
    "ymin, ymax = -22, -17\n",
    "\n",
    "aspect = (xmax-xmin)/(ymax-ymin)\n",
    "\n",
    "xx = np.log10(halocat_selected[\"vpeak\"])\n",
    "yy = halocat_selected[\"mx_scattered\"]\n",
    "xedges = logv_bins\n",
    "yedges = Mz_bins\n",
    "\n",
    "H = np.histogram2d(xx, yy, bins=(xedges, yedges))[0].T\n",
    "\n",
    "ax1 = fig.add_subplot(121, aspect=aspect)\n",
    "ax1.scatter(xx[::100], yy[::100], s=2, color=\"gray\", alpha=0.1)\n",
    "ax1.scatter(xx[::100], halocat_selected[\"mx_orig\"][::100], s=2, color=\"darkblue\")\n",
    "ax1.set_ylabel(r\"$M_z$\")\n",
    "\n",
    "ax2 = fig.add_subplot(122, aspect=aspect)\n",
    "X, Y = np.meshgrid(xedges, yedges)\n",
    "levels = np.logspace(np.log10(H[H>0].min()), np.log10(H.max()), 100)\n",
    "cmap = plt.get_cmap(\"plasma\")\n",
    "norm = BoundaryNorm(levels, ncolors=cmap.N, clip=True)\n",
    "ax2.pcolormesh(X, Y, H, cmap=cmap, norm=norm)\n",
    "ax2.plot(np.sort(xx[::100]), np.sort(halocat_selected[\"mx_orig\"][::100]), color=\"white\", lw=3)\n",
    "ax2.set_yticks([])\n",
    "\n",
    "for ax in (ax1,ax2):\n",
    "    ax.set_xlim(xmin,xmax)\n",
    "    ax.set_ylim(ymin,ymax)\n",
    "    ax.set_xlabel(r\"$\\log \\left( V_{\\rm peak}/{\\rm km\\ s}^{-1} \\right)$\")\n",
    "\n",
    "plt.tight_layout()\n",
    "fig.show()\n"
   ]
  },
  {
   "cell_type": "code",
   "execution_count": null,
   "metadata": {},
   "outputs": [],
   "source": []
  },
  {
   "cell_type": "code",
   "execution_count": null,
   "metadata": {},
   "outputs": [],
   "source": [
    "fig = plt.figure(figsize=(8,8))\n",
    "\n",
    "ax = fig.add_subplot(111)\n",
    "\n",
    "mx = halocat_selected[\"mx_orig\"]\n",
    "mx_scat = halocat_selected[\"mx_scattered\"]\n",
    "\n",
    "ax.scatter(mx[::100], (mx-mx_scat)[::100], s=2)\n",
    "\n",
    "plt.show()\n"
   ]
  },
  {
   "cell_type": "code",
   "execution_count": null,
   "metadata": {},
   "outputs": [],
   "source": []
  },
  {
   "cell_type": "code",
   "execution_count": null,
   "metadata": {},
   "outputs": [],
   "source": []
  },
  {
   "cell_type": "code",
   "execution_count": null,
   "metadata": {},
   "outputs": [],
   "source": []
  },
  {
   "cell_type": "code",
   "execution_count": null,
   "metadata": {},
   "outputs": [],
   "source": []
  },
  {
   "cell_type": "code",
   "execution_count": null,
   "metadata": {},
   "outputs": [],
   "source": []
  },
  {
   "cell_type": "code",
   "execution_count": null,
   "metadata": {},
   "outputs": [],
   "source": []
  },
  {
   "cell_type": "code",
   "execution_count": null,
   "metadata": {},
   "outputs": [],
   "source": [
    "Npts = len(halocat_selected)\n",
    "Lbox = 250.\n",
    "\n",
    "coords = np.vstack((halocat_selected[\"x\"],\n",
    "                    halocat_selected[\"y\"],\n",
    "                    halocat_selected[\"z\"])).T\n",
    "Nran = 2*Npts\n",
    "\n",
    "xran = np.random.uniform(0, Lbox, Nran)\n",
    "yran = np.random.uniform(0, Lbox, Nran)\n",
    "zran = np.random.uniform(0, Lbox, Nran)\n",
    "randoms = np.vstack((xran,yran,zran)).T\n",
    "\n",
    "rp_bins = np.logspace(np.log10(0.11),np.log10(19.5),13)\n",
    "pi_max  = 50.\n"
   ]
  },
  {
   "cell_type": "code",
   "execution_count": null,
   "metadata": {},
   "outputs": [],
   "source": [
    "%%time\n",
    "from halotools.mock_observables import wp_jackknife\n",
    "\n",
    "wp, wp_cov = wp_jackknife(coords, randoms, rp_bins, pi_max, Nsub=3, period=Lbox, estimator=\"Landy-Szalay\",\n",
    "                          do_auto=True, do_cross=False)\n"
   ]
  },
  {
   "cell_type": "code",
   "execution_count": null,
   "metadata": {},
   "outputs": [],
   "source": []
  },
  {
   "cell_type": "code",
   "execution_count": null,
   "metadata": {},
   "outputs": [],
   "source": []
  },
  {
   "cell_type": "code",
   "execution_count": null,
   "metadata": {},
   "outputs": [],
   "source": []
  },
  {
   "cell_type": "code",
   "execution_count": null,
   "metadata": {},
   "outputs": [],
   "source": [
    "# with open(f\"{path_to_halocatfile}/hlist_0.64793.list\", \"r\") as f:\n",
    "\n",
    "#     ## parse header\n",
    "#     line0 = f.readline()\n",
    "#     line0 = line0.strip()\n",
    "#     colnames = line0.split()\n",
    "\n",
    "#     ## obtain metadata for table\n",
    "#     #colnums = (1,5,6,10,11,12,15,16,17,18,19,59,60,61,62,63,69,70,71,72,73,74)\n",
    "#     colnums = (1,6,16,17,18,19,60,62,70,74)\n",
    "#     names = [colnames[i][:-4].lower() if (colnames[i][-4]==\"(\") else colnames[i][:-3].lower() for i in colnums]\n",
    "#     dtype = [int if ((\"id\" in colnames[i].lower()) or (\"?\" in colnames[i])) else float for i in colnums]\n",
    "\n",
    "#     for i in range(len(names)):\n",
    "#         print(f\"{i}\\t{colnums[i]}\\t{names[i]}\")"
   ]
  },
  {
   "cell_type": "code",
   "execution_count": null,
   "metadata": {},
   "outputs": [],
   "source": []
  },
  {
   "cell_type": "code",
   "execution_count": null,
   "metadata": {},
   "outputs": [],
   "source": []
  },
  {
   "cell_type": "code",
   "execution_count": null,
   "metadata": {},
   "outputs": [],
   "source": []
  },
  {
   "cell_type": "code",
   "execution_count": null,
   "metadata": {},
   "outputs": [],
   "source": []
  },
  {
   "cell_type": "code",
   "execution_count": null,
   "metadata": {},
   "outputs": [],
   "source": []
  },
  {
   "cell_type": "code",
   "execution_count": null,
   "metadata": {},
   "outputs": [],
   "source": [
    "def load_hists(scale, path_to_hists=None, quiet=True):\n",
    "    if path_to_hists==None:\n",
    "        raise Exception(\"Must specify path to history files\")\n",
    "    #chunklist = [\"a\" + str(scale).replace(\".\",\"p\") + \"_trees{}{}{}.npy\".format(*i) for i in list(it.product(\"01234\", repeat=3))]\n",
    "    chunklist = [\"a\" + str(scale).replace(\".\",\"p\") + \"_trees0{}{}.npy\".format(*i) for i in list(it.product(\"01234\", repeat=2))]\n",
    "    chunks    = []\n",
    "    for chunkname in chunklist:\n",
    "        this_chunk = Table(np.load(f\"{path_to_hists}/{chunkname}\"))\n",
    "        if not quiet:\n",
    "            print(f\"Loading chunk {chunkname}...\")\n",
    "        for colname in (\"treefilename\",\"tree_id\",\"id_hist\"):\n",
    "            if colname in this_chunk.colnames:\n",
    "                this_chunk.remove_column(colname)\n",
    "        chunks.append(this_chunk)\n",
    "    out = vstack(chunks)\n",
    "    out.rename_column(\"halo_id\",\"id\")\n",
    "    out.sort(\"id\")\n",
    "    return out\n",
    "    "
   ]
  },
  {
   "cell_type": "code",
   "execution_count": null,
   "metadata": {},
   "outputs": [],
   "source": []
  },
  {
   "cell_type": "code",
   "execution_count": null,
   "metadata": {},
   "outputs": [],
   "source": [
    "%%time\n",
    "\n",
    "hists_a0p64793_trees0XX = load_hists(0.64793, path_to_hists=\"/Users/aberti/Downloads\")\n"
   ]
  },
  {
   "cell_type": "code",
   "execution_count": null,
   "metadata": {},
   "outputs": [],
   "source": []
  },
  {
   "cell_type": "code",
   "execution_count": null,
   "metadata": {},
   "outputs": [],
   "source": [
    "%%time\n",
    "\n",
    "halocat_sub = join(halocat_a0p64793, hists_a0p64793_trees0XX, keys=\"id\", join_type=\"inner\")\n"
   ]
  },
  {
   "cell_type": "code",
   "execution_count": null,
   "metadata": {},
   "outputs": [],
   "source": []
  },
  {
   "cell_type": "markdown",
   "metadata": {},
   "source": [
    "$${\\rm \\bf Starvation\\ redshift}\\ {\\rm (Hearin\\ et\\ al. 2013, Saito\\ et\\ al. 2016)\\!:}$$\n",
    "\n",
    "$$z_{\\rm starve} \\equiv {\\rm Max}\\{z_{\\rm char},z_{\\rm acc},z_{\\rm form}\\} $$\n",
    "\n",
    "${\\rm \\bf Characteristic\\ redshift}\\ \\left(z_{\\rm char}\\right)\\\\\n",
    "z_{\\rm char} = {\\rm Snapshot\\ at\\ which\\ halo\\ mass\\ first\\ exceeds}\\ 10^{12}\\ h^{-1}{\\rm M}_\\odot,\\ {\\rm or}\\ z_{\\rm obs}\\ {\\rm for\\ (sub)halos\\ that\\ never\\ achieve\\ this\\ mass}$\n",
    "\n",
    "${\\rm \\bf Accretion\\ redshift}\\ \\left(z_{\\rm acc}\\right)\\\\\n",
    "z_{\\rm acc} = \n",
    "\\begin{cases}\n",
    "z_{\\rm obs}\\ {\\rm (for\\ host\\ halos)}\\\\\n",
    "{\\rm simulation\\ snapshot\\ at\\ which\\ subhalo\\ accretes\\ onto\\ host\\ halo}\\ {\\rm (for\\ subhalos)}\n",
    "\\end{cases}$\n",
    "\n",
    "${\\rm \\bf Formation\\ redshift}\\ \\left(z_{\\rm form}\\right)\\\\\n",
    "z_{\\rm form} = {\\rm redshift\\ at\\ which\\ (sub)halo\\ transitions\\ from\\ fast\\ to\\ slow\\ accretion\\ regime\\!:}$\n",
    "$$\n",
    "\\begin{align}\n",
    "z_{\\rm form} &= \\frac{1}{a_{\\rm form}} - 1,\\ {\\rm where}\\ a_{\\rm form}=\\frac{4.1a_{\\rm acc}}{c_{\\rm vir}}\\  {\\rm(Wechsler\\ et\\ al. 2002,\\ 2006)}\\\\\n",
    "&= \\frac{c_{\\rm vir}}{4.1 a_{\\rm acc}} - 1, {\\rm where}\\ c_{\\rm vir}=\\frac{R_{\\rm vir}}{R_{\\rm s}}\\ {\\rm at}\n",
    "\\begin{cases}\n",
    "z_{\\rm obs}\\ {\\rm (host\\ halos)}\\\\\n",
    "z_{\\rm acc}\\ {\\rm (subhalos)}\n",
    "\\end{cases}\\!,\n",
    "R_{\\rm s}\\ {\\rm is\\ NFW\\ profile\\ scale\\ radius}\n",
    "\\end{align}\n",
    "$$\n",
    "\n"
   ]
  },
  {
   "cell_type": "code",
   "execution_count": null,
   "metadata": {},
   "outputs": [],
   "source": []
  },
  {
   "cell_type": "code",
   "execution_count": null,
   "metadata": {},
   "outputs": [],
   "source": [
    "for colname in (\"z_char\",\"z_acc\",\"z_form\"): #,\"z_starve\"):\n",
    "    if colname in halocat_sub.colnames:\n",
    "        halocat_sub.remove_column(colname)\n",
    "    halocat_sub.add_column(Column(np.zeros(len(halocat_sub)), name=colname))\n"
   ]
  },
  {
   "cell_type": "code",
   "execution_count": null,
   "metadata": {},
   "outputs": [],
   "source": []
  },
  {
   "cell_type": "code",
   "execution_count": null,
   "metadata": {
    "scrolled": true
   },
   "outputs": [],
   "source": [
    "%%time\n",
    "\n",
    "DS = 1\n",
    "DSprint = int(DS*(10e4))\n",
    "quiet = False\n",
    "\n",
    "Mh_exceeds_12_yes = 0\n",
    "Mh_exceeds_12_no  = 0\n",
    "\n",
    "this_scale = 0.64793\n",
    "hist_len = len(halocat_sub[\"mvir_hist\"][0])\n",
    "\n",
    "these_snaps  = snaps[:hist_len]\n",
    "these_scales = these_snaps[\"scale\"]\n",
    "these_redshifts = these_snaps[\"redshift\"]\n",
    "\n",
    "z_obs = np.round(a_to_z(this_scale),5)\n",
    "print(f\"This scale:    {this_scale}\")\n",
    "print(f\"This redshift: {z_obs}\")\n",
    "\n",
    "for i in range(len(halocat_sub))[::DS]:\n",
    "    htype = \"Host Halo\" if halocat_sub[\"upid\"][i]==-1 else \"Subhalo\"\n",
    "    include = False\n",
    "    \n",
    "    if not quiet and i%DSprint==0:\n",
    "        print(f\"\\n========== {htype} {i} ==========\")\n",
    "    \n",
    "    this_mvir_hist = halocat_sub[\"mvir_hist\"][i]\n",
    "    this_rvir_hist = halocat_sub[\"rvir_hist\"][i]\n",
    "    this_rs_hist   = halocat_sub[\"rs_hist\"][i]\n",
    "    a_acc          = halocat_sub[\"acc_scale\"][i]        \n",
    "\n",
    "    ## z_char\n",
    "    mh_max = np.max(np.log10(this_mvir_hist))\n",
    "    if mh_max >= 12:\n",
    "        #include = True\n",
    "        Mh_exceeds_12_yes += 1\n",
    "        idx        = np.where(np.log10(this_mvir_hist) >= 12)[0][-1]\n",
    "        z_char_idx = hist_len-(idx+1)\n",
    "        z_char     = these_redshifts[z_char_idx]\n",
    "        if not quiet and (i%DSprint==0 or include):\n",
    "            print(f\"\\n========== {htype} {i} ==========\")\n",
    "            print(\"idx\\tlog Mh\\tscale\\tredshift\")\n",
    "        for j in np.concatenate([[0],np.arange(np.max([1,idx-2]),np.min([hist_len-1,idx+3]))]):\n",
    "            z_char_idx = hist_len-(j+1)\n",
    "            mark=\"*\" if j==idx else \" \"\n",
    "            if not quiet and (i%DSprint==0 or include):\n",
    "                print(f\"  {mark}{j}{mark}\\t{round(np.log10(this_mvir_hist[j]),3)}\\t{these_scales[z_char_idx]}\\t{these_redshifts[z_char_idx]}\")\n",
    "        if not quiet and (i%DSprint==0 or include):\n",
    "            print(f\"z_char = {z_char}\")\n",
    "    else:\n",
    "        Mh_exceeds_12_no += 1\n",
    "        z_char = z_obs\n",
    "        if not quiet and i%DSprint==0:\n",
    "            print(f\"max Mh = {round(mh_max,3)}\")\n",
    "    if not quiet and i%DSprint==0:\n",
    "        print(f\"z_char = {z_char}\")\n",
    "        \n",
    "    ## z_acc and z_form\n",
    "    if halocat_sub[\"upid\"][i] == -1: # host halos\n",
    "        z_acc = z_obs\n",
    "        cvir  = (this_rvir_hist[0])/(this_rs_hist[0])\n",
    "    else: # subhalos\n",
    "        z_acc = 1/a_acc - 1\n",
    "        z_form_idx = np.where(a_acc==these_scales[::-1])[0][0]\n",
    "        if not quiet and (i%DSprint==0 or include):\n",
    "            print(\"\\nidx\\tscale\\trvir\\trs\")\n",
    "            for j in np.arange(np.max([0,z_form_idx-2]),np.min([hist_len,z_form_idx+3])):\n",
    "                mark=\"*\" if j==z_form_idx else \" \"\n",
    "                print(f\"{mark}{j}{mark}\\t{these_scales[::-1][j]}\\t{this_rvir_hist[j]}\\t{this_rs_hist[j]}\")\n",
    "        cvir = this_rvir_hist[z_form_idx]/this_rs_hist[z_form_idx]\n",
    "        if not quiet and (i%DSprint==0 or include):\n",
    "            print(f\"cvir at a_acc={a_acc}: {round(cvir,3)}\")\n",
    "    z_form = np.round(cvir / (4.1*a_acc) - 1, 5)\n",
    "    if not quiet and (i%DSprint==0 or include):\n",
    "        print(f\"z_form = {z_form}\")\n",
    "        print(f\"z_acc  = {z_acc}\")\n",
    "\n",
    "    halocat_sub[\"z_char\"][i] = z_char\n",
    "    halocat_sub[\"z_acc\"][i]  = z_acc\n",
    "    halocat_sub[\"z_form\"][i] = z_form\n",
    "        \n",
    "print(f\"\\nHalos achieving 10^12 Msun/h:     {Mh_exceeds_12_yes}\")\n",
    "print(f\"Halos not achieving 10^12 Msun/h: {Mh_exceeds_12_no}\")\n",
    "print(f\"Correct total number of halos?    {Mh_exceeds_12_no+Mh_exceeds_12_yes==len(halocat_sub[::DS])}\\n\")\n"
   ]
  },
  {
   "cell_type": "code",
   "execution_count": null,
   "metadata": {},
   "outputs": [],
   "source": []
  },
  {
   "cell_type": "code",
   "execution_count": null,
   "metadata": {},
   "outputs": [],
   "source": [
    "z_starve = [np.max(i) for i in np.array([halocat_sub[\"z_char\"],halocat_sub[\"z_acc\"],halocat_sub[\"z_form\"]]).T]\n"
   ]
  },
  {
   "cell_type": "code",
   "execution_count": null,
   "metadata": {},
   "outputs": [],
   "source": [
    "if \"z_starve\" in halocat_sub.colnames:\n",
    "    halocat_sub.remove_column(\"z_starve\")\n",
    "halocat_sub.add_column(Column(z_starve, name=\"z_starve\"))\n"
   ]
  },
  {
   "cell_type": "code",
   "execution_count": null,
   "metadata": {},
   "outputs": [],
   "source": []
  },
  {
   "cell_type": "code",
   "execution_count": null,
   "metadata": {},
   "outputs": [],
   "source": []
  },
  {
   "cell_type": "code",
   "execution_count": null,
   "metadata": {},
   "outputs": [],
   "source": [
    "fig, ax = plt.subplots(1, 1, figsize=(10,10))\n",
    "\n",
    "x = halocat_sub[\"x\"]\n",
    "y = halocat_sub[\"y\"]\n",
    "z = halocat_sub[\"z\"]\n",
    "\n",
    "# ax.scatter(halocat_sub[\"vpeak\"][cens], halocat_sub[\"z_starve\"][cens], s=1)\n",
    "# ax.scatter(halocat_sub[\"vpeak\"][~cens], halocat_sub[\"z_starve\"][~cens], s=1)\n",
    "#ax.scatter(halocat_sub[\"vpeak\"], halocat_sub[\"vmax\"], s=1)\n",
    "\n",
    "bins = np.linspace(0,250,51)\n",
    "\n",
    "# ax.hist(halocat_sub[\"vpeak\"], bins=bins, alpha=0.5)\n",
    "# ax.hist(halocat_sub[\"vmax\"], bins=bins, alpha=0.5)\n",
    "# ax.hist(halocat_sub[\"vmax\\@mpeak\"], bins=bins, lw=2, histtype=\"step\")\n",
    "\n",
    "ax.scatter(halocat_sub[\"vmax\\@mpeak\"], np.log10(halocat_sub[\"mpeak\"]), s=1, alpha=0.1)\n",
    "\n",
    "# ax.legend()\n",
    "\n",
    "ax.set_xlim(0,800)\n",
    "# ax.set_ylim(0,25)\n",
    "\n",
    "plt.show()\n"
   ]
  },
  {
   "cell_type": "code",
   "execution_count": null,
   "metadata": {},
   "outputs": [],
   "source": []
  },
  {
   "cell_type": "code",
   "execution_count": null,
   "metadata": {},
   "outputs": [],
   "source": [
    "fig, ax = plt.subplots(1, 1, figsize=(6,6))\n",
    "\n",
    "bins=np.linspace(50,100,26)\n",
    "\n",
    "vol = (250.**3)/5\n",
    "\n",
    "nh_vmaxMpeak,_ = np.histogram(halocat_sub[\"vmax\\@mpeak\"], bins=bins)\n",
    "nh_vmax,_ = np.histogram(halocat_sub[\"vmax\"], bins=bins)\n",
    "nh_vpeak,_ = np.histogram(halocat_sub[\"vpeak\"], bins=bins)\n",
    "\n",
    "ax.plot(bins[:-1]+0.5*(bins[1]-bins[0]),nh_vpeak/vol, \"--k\", lw=2, label=r\"$V_{\\rm L}=V_{\\rm peak}$\")\n",
    "#ax.plot(bins[:-1]+0.5*(bins[1]-bins[0]),nh_vmax/vol, \"-k\", lw=2, label=r\"$V_{\\rm max}$\")\n",
    "ax.plot(bins[:-1]+0.5*(bins[1]-bins[0]),nh_vmaxMpeak/vol, \":k\", lw=2, label=r\"$V_{\\rm L}=V_{\\rm max}@M_{\\rm peak}$\")\n",
    "\n",
    "ax.legend(fontsize=24)\n",
    "ax.set_xlabel(r\"$V_{\\rm L}\\ \\left[\\ {\\rm km\\ s}^{-1}\\ \\right]$\", fontsize=20)\n",
    "ax.set_ylabel(r\"${\\rm number\\ density\\ of\\ halos } \\left[\\left(h^{-1}{\\rm Mpc}\\right)^{-3}\\right]$\", fontsize=20)\n",
    "ax.set_xlim(bins[0]-1,bins[-1])\n",
    "ax.set_ylim(0,0.05)\n",
    "\n",
    "ax.text(51,0.002, \"snapshot subvolume\\n\"+r\"at $z=0.543$\", fontsize=20)\n",
    "\n",
    "ax.tick_params(labelsize=18)\n",
    "\n",
    "plt.show()\n",
    "    "
   ]
  },
  {
   "cell_type": "code",
   "execution_count": null,
   "metadata": {},
   "outputs": [],
   "source": []
  },
  {
   "cell_type": "code",
   "execution_count": null,
   "metadata": {},
   "outputs": [],
   "source": [
    "fig, axes = plt.subplots(1, 2, figsize=(10,4))\n",
    "\n",
    "colors = [\"blue\",\"red\",\"green\",\"purple\",\"orange\",\"magenta\"]\n",
    "\n",
    "print(\"\\tz_strv\\tlog z_strv\")\n",
    "#for j,halo in enumerate(halocat_sub[1234::int(len(halocat_sub)/5.)]):\n",
    "#for j,halo in enumerate(halocat_sub[13::int(len(halocat_sub)/5.)]):\n",
    "for j,halo in enumerate(halocat_sub[np.log10(halocat_sub[\"mpeak\"])>12][3::4000]): #[13::int(len(halocat_sub)/5.)]):\n",
    "    z_starve = halo[\"z_starve\"]\n",
    "    lg_z_starve = np.log10(z_starve)\n",
    "    a_starve = z_to_a(z_starve)\n",
    "    print( f\"{colors[j]}\\t\", round(halo[\"z_starve\"],2), f\"\\t{round(lg_z_starve,2)}\\t\")#, round(z_to_a(halo[\"z_starve\"]),2) )\n",
    "\n",
    "    axes[0].plot(np.log10(these_redshifts), np.log10(halo[\"mvir_hist\"])[::-1], color=colors[j], alpha=0.5, lw=2)\n",
    "    axes[1].plot(np.log10(these_redshifts), (halo[\"rvir_hist\"][::-1])/(halo[\"rs_hist\"][::-1]), alpha=0.5, lw=2, color=colors[j])\n",
    "\n",
    "    mask = [np.abs(np.log10(these_redshifts)-lg_z_starve) < 0.01]\n",
    "    zs = np.log10(these_redshifts[mask])\n",
    "    axes[0].plot((lg_z_starve,lg_z_starve), (0,100), \":\", color=colors[j])\n",
    "\n",
    "for ax in axes:\n",
    "    ax.set_xlim(1,np.log10(0.5))\n",
    "    xticks = np.log10(these_redshifts[::-16][:-1])\n",
    "    ax.set_xticks(xticks)\n",
    "    ax.set_xticklabels([r\"${:.1f}$\".format(10**i) for i in xticks])\n",
    "    ax.set_xlabel(r\"${\\rm redshift}$\", fontsize=18)\n",
    "    \n",
    "\n",
    "axes[0].set_ylim(9,13.5)\n",
    "axes[0].set_ylabel(r\"$\\log M_{\\rm vir}\\left[\\ h^{-1}M_{\\odot}\\ \\right]$\", fontsize=20)\n",
    "axes[1].set_ylim(0,14)\n",
    "axes[1].set_yticks(np.linspace(0,14,8))\n",
    "axes[1].set_ylabel(r\"${\\rm halo\\ concentration}\\ (c_{\\rm vir})$\", fontsize=20)\n",
    "\n",
    "\n",
    "plt.tight_layout()\n",
    "plt.show()\n",
    "\n"
   ]
  },
  {
   "cell_type": "code",
   "execution_count": null,
   "metadata": {},
   "outputs": [],
   "source": []
  },
  {
   "cell_type": "code",
   "execution_count": null,
   "metadata": {},
   "outputs": [],
   "source": [
    "fig, ax = plt.subplots(1, 1, figsize=(6,6))\n",
    "\n",
    "bins=np.linspace(50,100,26)\n",
    "\n",
    "# nh_vmaxMpeak,_ = np.histogram(halocat_sub[\"vmax\\@mpeak\"], bins=bins)\n",
    "# nh_vmax,_  = np.histogram(halocat_sub[\"vmax\"], bins=bins)\n",
    "# nh_vpeak,_ = np.histogram(halocat_sub[\"vpeak\"], bins=bins)\n",
    "\n",
    "# VL = \"vpeak\"\n",
    "\n",
    "# f_z_char = []\n",
    "# f_z_form = []\n",
    "# f_z_acc  = []\n",
    "\n",
    "# for i in range(len(bins)-1):\n",
    "#     chunk = halocat_sub[(halocat_sub[VL] >= bins[i]) & (halocat_sub[VL] < bins[i+1])]\n",
    "#     denom = len(chunk)\n",
    "#     print(denom)\n",
    "#     N_z_char = len(np.where(chunk[\"z_starve\"]==chunk[\"z_char\"])[0])\n",
    "#     N_z_form = len(np.where(chunk[\"z_starve\"]==chunk[\"z_form\"])[0])\n",
    "#     N_z_acc  = len(np.where(chunk[\"z_starve\"]==chunk[\"z_acc\"])[0])\n",
    "\n",
    "#     f_z_char.append(N_z_char/denom)\n",
    "#     f_z_form.append(N_z_form/denom)\n",
    "#     f_z_acc.append(N_z_acc/denom)\n",
    "\n",
    "    \n",
    "xx = bins[:-1]+0.5*(bins[1]-bins[0]) \n",
    "ax.plot(xx, f_z_char, label=\"char\")\n",
    "ax.plot(xx, f_z_form, label=\"form\")\n",
    "ax.plot(xx, f_z_acc, label=\"acc\")\n",
    "ax.plot(xx, 1-np.add(f_z_char,f_z_form), label=\"1-(char+form)\")\n",
    "    \n",
    "# ax.plot(bins[:-1]+0.5*(bins[1]-bins[0]),nh_vpeak/vol, \"--k\", lw=2, label=r\"$V_{\\rm peak}$\")\n",
    "# ax.plot(bins[:-1]+0.5*(bins[1]-bins[0]),nh_vmax/vol, \"-k\", lw=2, label=r\"$V_{\\rm max}$\")\n",
    "# ax.plot(bins[:-1]+0.5*(bins[1]-bins[0]),nh_vmaxMpeak/vol, \":k\", lw=2, label=r\"$V_{\\rm max}@M_{\\rm peak}$\")\n",
    "\n",
    "ax.legend(fontsize=24)\n",
    "# ax.set_xlabel(r\"$V_{\\rm L}\\ \\left[\\ {\\rm km\\ s}^{-1}\\ \\right]$\", fontsize=20)\n",
    "# ax.set_ylabel(r\"${\\rm number\\ density\\ of\\ halos } \\left[\\left(h^{-1}{\\rm Mpc}\\right)^{-3}\\right]$\", fontsize=20)\n",
    "ax.tick_params(labelsize=18)\n",
    "\n",
    "plt.show()\n",
    "    "
   ]
  },
  {
   "cell_type": "code",
   "execution_count": null,
   "metadata": {},
   "outputs": [],
   "source": []
  },
  {
   "cell_type": "code",
   "execution_count": null,
   "metadata": {},
   "outputs": [],
   "source": [
    "fig, ax = plt.subplots(1, 1, figsize=(8,6))\n",
    "\n",
    "bins = np.linspace(0.5,10,20)\n",
    "\n",
    "cens = halocat_sub[\"upid\"]==-1\n",
    "\n",
    "ax.hist(halocat_sub[\"z_form\"][cens], bins=bins, label=r\"$z_{\\rm form}\\ {\\rm (halos)}$\", density=True, color=\"blue\", histtype=\"step\", hatch=\"//\", lw=2)\n",
    "ax.hist(halocat_sub[\"z_form\"][~cens], bins=bins, density=True, color=\"blue\", alpha=0.3)\n",
    "\n",
    "bins = np.linspace(0,15,31)\n",
    "\n",
    "ax.hist(halocat_sub[\"z_char\"][cens & (np.log10(halocat_sub[\"mpeak\"])>=12)], bins=bins, density=True, color=\"black\", histtype=\"step\", hatch=\"\\\\\\\\\", lw=2)\n",
    "ax.hist(halocat_sub[\"z_char\"][~cens & (np.log10(halocat_sub[\"mpeak\"])>=12)], bins=bins, density=True, color=\"black\", alpha=0.3)\n",
    "\n",
    "ax.set_xlim(0,10)\n",
    "\n",
    "ax.text(3,0.55, r\"subvolume of snapshot at $z=0.543$\", fontsize=20)\n",
    "ax.text(5,0.4, r\"BLUE: $z_{\\rm form}$\" + \"\\n\" +r\"GRAY: $z_{\\rm char}$\", fontsize=20)\n",
    "ax.text(5,0.3,r\"HATCHED: host halos\" + \"\\n\" + r\"SOLID: subhalos\", fontsize=20)\n",
    "# ax.legend()\n",
    "# xx = bins[:-1]+0.5*(bins[1]-bins[0]) \n",
    "# ax.plot(xx, f_z_char, label=\"char\")\n",
    "# ax.plot(xx, f_z_form, label=\"form\")\n",
    "# ax.plot(xx, 1-np.add(f_z_char,f_z_form), label=\"acc\")\n",
    "    \n",
    "# ax.plot(bins[:-1]+0.5*(bins[1]-bins[0]),nh_vpeak/vol, \"--k\", lw=2, label=r\"$V_{\\rm peak}$\")\n",
    "# ax.plot(bins[:-1]+0.5*(bins[1]-bins[0]),nh_vmax/vol, \"-k\", lw=2, label=r\"$V_{\\rm max}$\")\n",
    "# ax.plot(bins[:-1]+0.5*(bins[1]-bins[0]),nh_vmaxMpeak/vol, \":k\", lw=2, label=r\"$V_{\\rm max}@M_{\\rm peak}$\")\n",
    "\n",
    "#ax.legend(fontsize=24)\n",
    "ax.set_xlabel(r\"${\\rm redshift}$\", fontsize=20)\n",
    "ax.set_ylabel(r\"${\\rm relative\\ number\\ of\\ halos/subhalos}$\", fontsize=20)\n",
    "ax.tick_params(labelsize=18)\n",
    "\n",
    "plt.show()\n",
    "    "
   ]
  },
  {
   "cell_type": "code",
   "execution_count": null,
   "metadata": {},
   "outputs": [],
   "source": []
  },
  {
   "cell_type": "code",
   "execution_count": null,
   "metadata": {
    "scrolled": false
   },
   "outputs": [],
   "source": [
    "# j = 0\n",
    "\n",
    "# quiet = False\n",
    "\n",
    "\n",
    "# # snap_dir = \"/uufs/chpc.utah.edu/common/home/astro/dawson/aberti/bolshoip\"\n",
    "\n",
    "# # path_to_z0p0_histories = \"/uufs/chpc.utah.edu/common/home/astro/dawson/aberti/bolshoip\"\n",
    "# path_to_z0p0_histories = \"/Users/aberti/Downloads\"\n",
    "\n",
    "# # path_to_lookup_tables  = \"/uufs/chpc.utah.edu/common/home/astro/dawson/aberti/bolshoip/tree_lookup_tables\"\n",
    "# path_to_lookup_tables = \"/Users/aberti/Downloads\"\n",
    "\n",
    "# # path_to_treefiles = \"/uufs/chpc.utah.edu/common/home/astro/dawson/aberti/bolshoip/TREES\"\n",
    "# path_to_treefiles = \"/Users/aberti/Downloads\"\n",
    "\n",
    "# # history_save_dir  = \"/uufs/chpc.utah.edu/common/home/astro/dawson/aberti/bolshoip/HISTORIES\"\n",
    "# history_dir = \"/Users/aberti/Downloads\"\n",
    "\n",
    "\n",
    "# treefilelist = [\"tree_{}_{}_{}.dat\".format(j,*i) for i in list(it.product(\"01234\", repeat=2))]\n",
    "# #treefilelist = [\"tree_0_4_2.dat\", \"\"]\n",
    "\n",
    "\n",
    "# for treefilename in treefilelist:\n",
    "#     if not quiet:\n",
    "#         print(f\"Loading {treefilename}...\")\n",
    "#     this_treefile = load_trees(f\"{path_to_treefiles}/{treefilename}\", quiet=True)\n",
    "#     #this_treefile = trees042\n",
    "    \n",
    "#     for scale in a_snaps:\n",
    "#         this_scale = scale\n",
    "#         hist_len   = snaps[\"snapnum\"][snaps[\"scale\"]==this_scale].data[0]\n",
    "#         this_hist_idx = hist_idx[np.where(a_snaps==this_scale)[0][0]]\n",
    "\n",
    "#         this_chunkname = \"a\" + str(this_scale).replace(\".\",\"p\") + \"_trees\" + \"{}{}{}\".format(*treefilename.split(\"_\")[1:])[:3] + \".npy\"\n",
    "#         if not quiet:\n",
    "#             print(f\"  Loading chunk {this_chunkname}...\")\n",
    "#         this_chunk = Table(np.load(f\"{history_dir}/{this_chunkname}\"))\n",
    "        \n",
    "#         mask = this_chunk[\"id_hist\"][:,0]==0\n",
    "#         N_halos = len(this_chunk[mask])\n",
    "        \n",
    "#         if not quiet:\n",
    "#             print(f\"    Histories needed for {N_halos} of {len(this_chunk)} halos...\")\n",
    "        \n",
    "#         for i in range(N_halos):\n",
    "#             this_halo_id = this_chunk[mask][\"halo_id\"][i]\n",
    "#             this_tree_id = this_chunk[mask][\"tree_id\"][i]\n",
    "    \n",
    "#             mvir_hist, rvir_hist, rs_hist, id_hist = get_subhist_from_tree(this_halo_id, this_treefile, this_tree_id, N_steps=hist_len)\n",
    "#             if i%1000==0 and i>0 and not quiet:\n",
    "#                 print(f\"    {i} / {N_halos}\")\n",
    "#                 print(f\"\\t{id_hist}\")\n",
    "                \n",
    "#             this_chunk[\"mvir_hist\"][this_chunk[\"halo_id\"]==this_halo_id] = mvir_hist\n",
    "#             this_chunk[\"rvir_hist\"][this_chunk[\"halo_id\"]==this_halo_id] = rvir_hist\n",
    "#             this_chunk[\"rs_hist\"][this_chunk[\"halo_id\"]==this_halo_id]   = rs_hist\n",
    "#             this_chunk[\"id_hist\"][this_chunk[\"halo_id\"]==this_halo_id]   = id_hist\n",
    "\n",
    "#         if not quiet:\n",
    "#             print(f\"  Saving chunk...\\n\")\n",
    "#         np.save(f\"{history_dir}/{this_chunkname}\", this_chunk)\n"
   ]
  },
  {
   "cell_type": "code",
   "execution_count": null,
   "metadata": {},
   "outputs": [],
   "source": []
  },
  {
   "cell_type": "code",
   "execution_count": null,
   "metadata": {},
   "outputs": [],
   "source": [
    "%%time\n",
    "\n",
    "trees042 = load_trees(f\"{path_to_treefiles}/tree_0_4_2.dat.gz\", quiet=True)\n",
    "\n",
    "trees230 = load_trees(f\"{path_to_treefiles}/tree_2_3_0.dat.gz\", quiet=True)\n"
   ]
  },
  {
   "cell_type": "code",
   "execution_count": null,
   "metadata": {},
   "outputs": [],
   "source": []
  },
  {
   "cell_type": "code",
   "execution_count": null,
   "metadata": {},
   "outputs": [],
   "source": []
  }
 ],
 "metadata": {
  "kernelspec": {
   "display_name": "Python 3",
   "language": "python",
   "name": "python3"
  },
  "language_info": {
   "codemirror_mode": {
    "name": "ipython",
    "version": 3
   },
   "file_extension": ".py",
   "mimetype": "text/x-python",
   "name": "python",
   "nbconvert_exporter": "python",
   "pygments_lexer": "ipython3",
   "version": "3.7.3"
  }
 },
 "nbformat": 4,
 "nbformat_minor": 4
}
